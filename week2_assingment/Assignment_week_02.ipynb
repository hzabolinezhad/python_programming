{
 "cells": [
  {
   "cell_type": "markdown",
   "metadata": {},
   "source": [
    "# Week 02 Assignment glucose level data\n",
    "\n",
    "\n",
    "Missing data occurs commonly in many data applications. Especially wearable sensor devices encounter measurement errors resulting in missing data. Although pandas can handle missing data, for instance, to exclude missing data in the descriptive analysis, we might decide to reshape our data to improve quality. We might consider excluding certain rows, columns, or decide to impute our data if we take an argumentative approach. This week we will work with sensor data of a semester 01 project. The data is timeseries related but a lot of sensor errors occurred. First, we inspect the quality data. Then we will work with imputation, interpolation, and smoothing techniques to overcome this issue of the error readings. Finaly we plot the data. Visualization is a method to translate data into information. As a data scientist you should be able to choose an appropiate visualizations. \n",
    "\n",
    "\n",
    "Keywords: data loading, data inspection, data exploration, data cleaning, impute data, missing data, timeseries, pandas, visualization, interactive plots, overflow/underflow error\n",
    "\n",
    "More to read\n",
    "- https://fennaf.gitbook.io/bfvm22prog1/\n",
    "- https://towardsdatascience.com/how-to-analyze-blood-glucose-data-with-python-data-science-packages-4f160f9564be\n",
    "\n",
    "\n",
    "More about pandas and bokeh programming\n",
    "- https://pandas.pydata.org/pandas-docs/stable/reference/api/pandas.DataFrame.interpolate.html\n",
    "- https://rubberduckdebugging.com/\n",
    "- https://docs.bokeh.org/en/latest/docs/gallery.html\n",
    "\n",
    "\n",
    "Learning objectives\n",
    "\n",
    "- Further practice numpy / pandas\n",
    "- Read, inspect, clean, and impute JSON data. Handle missing data\n",
    "- Apply different interpolation/smoothing techniques\n",
    "- Recognize overflow/underflow error\n",
    "- Perform visual and statistical analysis for time series data\n",
    "- Maintain development environment \n",
    "- Apply coding standards and FAIR principles\n",
    "\n",
    "\n",
    "Note: you can bring your own sensor data, but for the practical you need some missing data points. \n",
    "\n",
    "By the end of this week the student can:\n",
    "\n",
    "- load a json dataset \n",
    "- typecast the Pandas DataFrame to appropiate data types\n",
    "- inspect the dataset for quality and metadata information\n",
    "- add a column with interpolated data in Pandas DataFrame\n",
    "- perform visual analysis\n",
    "\n",
    "please add your own topics you want to learn here: https://padlet.com/ffeenstra1/69vbvy0l8t32rq55\n",
    "\n",
    "\n",
    "The assignment consists of 6 parts:\n",
    "\n",
    "- [part 1: load the data](#0)\n",
    "     - [Exercise 1.1](#ex-11)\n",
    "- [part 2: prepare for inspection](#1)\n",
    "     - [Exercise 2.1](#ex-21)\n",
    "- [part 3: inspect the data](#2)\n",
    "     - [Exercise 3.1](#ex-31)\n",
    "- [part 4: interpolate the data](#3)\n",
    "     - [Exercise 4.1](#ex-41)\n",
    "- [part 5: visualize the data](#4)\n",
    "     - [Exercise 5.1](#ex-51)\n",
    "- [part 6: Challenge](#5)\n",
    "     - [Exercise 6.1](#ex-61)\n",
    "\n",
    "Part 1 and 5 are mandatory, part 6 is optional (bonus)\n",
    "Mind you that you cannot copy code without referencing the code. If you copy code you need to be able to explain your code verbally and you will not get the full score. \n"
   ]
  },
  {
   "cell_type": "markdown",
   "metadata": {},
   "source": [
    "<a name='0'></a>\n",
    "## Part 1: Load the data\n",
    "\n",
    "Instructions: Load the json datafile `glucose.json` into a pandas dataframe. Check your dataframe with a `.head()` to compare with the expected outcome. \n",
    "\n",
    "Preferably we read the data not with a hard coded data path but using a config file. See https://fennaf.gitbook.io/bfvm22prog1/data-processing/configuration-files/yaml\n",
    "\n",
    "<details>    \n",
    "<summary>\n",
    "    <font size=\"3\" color=\"darkgreen\"><b>Hints</b></font>\n",
    "</summary>\n",
    "<ul><li>json.load() method reads a file, pd.read_json converts it to a Pandas DataFrame</li>\n",
    "    <li>when loading into a Pandas DataFrame use records orientation </li>\n",
    "</ul>\n",
    "</details>\n",
    "\n",
    "<a name='ex-11'></a>\n",
    "### Code your solution"
   ]
  },
  {
   "cell_type": "code",
   "execution_count": 44,
   "metadata": {},
   "outputs": [
    {
     "data": {
      "text/html": [
       "<div>\n",
       "<style scoped>\n",
       "    .dataframe tbody tr th:only-of-type {\n",
       "        vertical-align: middle;\n",
       "    }\n",
       "\n",
       "    .dataframe tbody tr th {\n",
       "        vertical-align: top;\n",
       "    }\n",
       "\n",
       "    .dataframe thead th {\n",
       "        text-align: right;\n",
       "    }\n",
       "</style>\n",
       "<table border=\"1\" class=\"dataframe\">\n",
       "  <thead>\n",
       "    <tr style=\"text-align: right;\">\n",
       "      <th></th>\n",
       "      <th>ID</th>\n",
       "      <th>time</th>\n",
       "      <th>recordtype</th>\n",
       "      <th>glucose</th>\n",
       "    </tr>\n",
       "  </thead>\n",
       "  <tbody>\n",
       "    <tr>\n",
       "      <th>0</th>\n",
       "      <td>2845.0</td>\n",
       "      <td>2019-04-25 00:08</td>\n",
       "      <td>1</td>\n",
       "      <td>109</td>\n",
       "    </tr>\n",
       "    <tr>\n",
       "      <th>1</th>\n",
       "      <td>2850.0</td>\n",
       "      <td>2019-04-25 00:50</td>\n",
       "      <td>1</td>\n",
       "      <td></td>\n",
       "    </tr>\n",
       "    <tr>\n",
       "      <th>2</th>\n",
       "      <td>2877.0</td>\n",
       "      <td>2019-04-25 07:02</td>\n",
       "      <td>1</td>\n",
       "      <td>123</td>\n",
       "    </tr>\n",
       "    <tr>\n",
       "      <th>3</th>\n",
       "      <td>2881.0</td>\n",
       "      <td>2019-04-25 07:34</td>\n",
       "      <td>1</td>\n",
       "      <td>158</td>\n",
       "    </tr>\n",
       "    <tr>\n",
       "      <th>4</th>\n",
       "      <td>2886.0</td>\n",
       "      <td>2019-04-25 08:19</td>\n",
       "      <td>1</td>\n",
       "      <td></td>\n",
       "    </tr>\n",
       "  </tbody>\n",
       "</table>\n",
       "</div>"
      ],
      "text/plain": [
       "       ID              time  recordtype glucose\n",
       "0  2845.0  2019-04-25 00:08           1     109\n",
       "1  2850.0  2019-04-25 00:50           1        \n",
       "2  2877.0  2019-04-25 07:02           1     123\n",
       "3  2881.0  2019-04-25 07:34           1     158\n",
       "4  2886.0  2019-04-25 08:19           1        "
      ]
     },
     "execution_count": 44,
     "metadata": {},
     "output_type": "execute_result"
    }
   ],
   "source": [
    "# CODE YOUR SOLUTION HERE\n",
    "import yaml\n",
    "import json\n",
    "import pandas as pd\n",
    "\n",
    "\n",
    "#parse a config yaml file to a config json file \n",
    "with open('config.yaml', 'r') as yaml_config_file:\n",
    "    configuration = yaml.safe_load(yaml_config_file)\n",
    "\n",
    "with open('config.json', 'w') as json_config_file:\n",
    "    json.dump(configuration, json_config_file)\n",
    "\n",
    "#read the glucosse file using config.json \n",
    "with open(str(json.load(open('config.json'))['glucose_path'])) as glucose_reader:\n",
    "    glucose_data =json.load(glucose_reader)\n",
    "\n",
    "df = pd.read_json(glucose_data)\n",
    "df_copy=df.copy()\n",
    "df.head()\n",
    "\n",
    "\n",
    "\n"
   ]
  },
  {
   "cell_type": "markdown",
   "metadata": {},
   "source": [
    "#### Expected outcome: "
   ]
  },
  {
   "cell_type": "raw",
   "metadata": {},
   "source": [
    "       ID              time  recordtype glucose\n",
    "0  2845.0  2019-04-25 00:08           1     109\n",
    "1  2850.0  2019-04-25 00:50           1        \n",
    "2  2877.0  2019-04-25 07:02           1     123\n",
    "3  2881.0  2019-04-25 07:34           1     158\n",
    "4  2886.0  2019-04-25 08:19           1        "
   ]
  },
  {
   "cell_type": "markdown",
   "metadata": {},
   "source": [
    "<a name='1'></a>\n",
    "## Part 2: Prepare the data\n",
    "\n",
    "Check the datatypes of your dataframe. The `glucose` field should be an integer, the `time` field should have a datetime format. If the datatypes are different you should typecast them to the right format.\n",
    "Make sure that your dataset is sorted by the time column\n",
    "\n",
    "\n",
    "<details>    \n",
    "<summary>\n",
    "    <font size=\"3\" color=\"darkgreen\"><b>Hints</b></font>\n",
    "</summary>\n",
    "<ul><li>use astype() method or pandas.DataFrame.to_datetime() for instance</li>\n",
    "    <li>make sure that the empty spaces are filled with NaN. Use errors='coerce'</li>\n",
    "    <li>set_index(), sort_index() and reset_index() are helpful to sort on index</li>\n",
    "</ul>\n",
    "</details>\n",
    "\n",
    "<a name='ex-21'></a>\n",
    "### Code your solution"
   ]
  },
  {
   "cell_type": "code",
   "execution_count": 45,
   "metadata": {},
   "outputs": [
    {
     "name": "stdout",
     "output_type": "stream",
     "text": [
      "ID                     int32\n",
      "time          datetime64[ns]\n",
      "recordtype             int64\n",
      "glucose              float64\n",
      "dtype: object\n",
      "\n",
      "DataFrame after setting index on time column and sorting by index\n",
      "\n",
      "                             ID  recordtype  glucose\n",
      "time                                                \n",
      "2019-04-25 00:08:00        2845           1    109.0\n",
      "2019-04-25 00:14:00 -2147483648           0      NaN\n",
      "2019-04-25 00:29:00 -2147483648           0      NaN\n",
      "2019-04-25 00:44:00 -2147483648           0      NaN\n",
      "2019-04-25 00:50:00        2850           1      NaN\n",
      "...                         ...         ...      ...\n",
      "2019-04-25 23:02:00 -2147483648           0      NaN\n",
      "2019-04-25 23:18:00 -2147483648           0      NaN\n",
      "2019-04-25 23:31:00        3062           1    111.0\n",
      "2019-04-25 23:33:00 -2147483648           0      NaN\n",
      "2019-04-25 23:48:00 -2147483648           0      NaN\n",
      "\n",
      "[136 rows x 3 columns]\n"
     ]
    }
   ],
   "source": [
    "\n",
    "#typecasting ID, glucose and time columns \n",
    "df['ID'] = df['ID'].astype(int)\n",
    "df['glucose'] = df['glucose'].apply(pd.to_numeric, errors='coerce')\n",
    "df['time'] = df['time'].apply(pd.to_datetime, errors='coerce')\n",
    "print(df.dtypes) \n",
    "\n",
    "#sort the dataset by the time column\n",
    "df = df.set_index(['time'])\n",
    "df=df.sort_index(ascending=True)\n",
    "print('\\nDataFrame after setting index on time column and sorting by index\\n')\n",
    "print(df)\n",
    "\n",
    "#to keep a copy of last modified dataframe \n",
    "df_copy =df.copy()"
   ]
  },
  {
   "cell_type": "markdown",
   "metadata": {},
   "source": [
    "#### Expected outcome: "
   ]
  },
  {
   "cell_type": "raw",
   "metadata": {},
   "source": [
    "ID                     int64\n",
    "time          datetime64[ns]\n",
    "recordtype             int64\n",
    "glucose              float64\n",
    "dtype: object"
   ]
  },
  {
   "cell_type": "raw",
   "metadata": {},
   "source": [
    "#display the result\n",
    "for column in df['time']:\n",
    "  print(column)\n"
   ]
  },
  {
   "cell_type": "markdown",
   "metadata": {},
   "source": [
    "<a name='2'></a>\n",
    "## Part 3: Inspect the data\n",
    "\n",
    "Now that we prepared the data we are going to inspect the data to get more familiar with the data. You can answer the questions below but feel free to explore the data further by plotting and or statistics, group by overviews and so on. \n",
    "\n",
    "To be answered at least:\n",
    "- what is the quantity of the data (observations and features)\n",
    "- what is the percentage missing data for glucose?\n",
    "- is there a specific pattern for glucose value and recordtype?\n",
    "- what is the time range?\n",
    "\n",
    "Code the solutions to your answers. Create meaningful overviews or statistics\n",
    "\n",
    "<details>    \n",
    "<summary>\n",
    "    <font size=\"3\" color=\"darkgreen\"><b>Hints</b></font>\n",
    "</summary>\n",
    "<ul><li>In the week 01 assignment some functions were explained to inspect missing values</li>\n",
    "    <li>In the week 01 assignment some functions were explained to groupby value</li>\n",
    "</ul>\n",
    "</details>\n",
    "\n",
    "<a name='ex-31'></a>\n",
    "### Code your solution"
   ]
  },
  {
   "cell_type": "code",
   "execution_count": 46,
   "metadata": {},
   "outputs": [
    {
     "name": "stdout",
     "output_type": "stream",
     "text": [
      "<class 'pandas.core.frame.DataFrame'>\n",
      "RangeIndex: 136 entries, 0 to 135\n",
      "Data columns (total 4 columns):\n",
      " #   Column      Non-Null Count  Dtype         \n",
      "---  ------      --------------  -----         \n",
      " 0   time        136 non-null    datetime64[ns]\n",
      " 1   ID          136 non-null    int32         \n",
      " 2   recordtype  136 non-null    int64         \n",
      " 3   glucose     52 non-null     float64       \n",
      "dtypes: datetime64[ns](1), float64(1), int32(1), int64(1)\n",
      "memory usage: 3.8 KB\n",
      "\n",
      " None\n",
      "\n",
      "                  ID  recordtype     glucose\n",
      "count  1.360000e+02  136.000000   52.000000\n",
      "mean  -1.294805e+09    0.397059  123.403846\n",
      "std    1.054625e+09    0.491097   20.734796\n",
      "min   -2.147484e+09    0.000000   86.000000\n",
      "25%   -2.147484e+09    0.000000  109.750000\n",
      "50%   -2.147484e+09    0.000000  121.500000\n",
      "75%    2.949500e+03    1.000000  129.000000\n",
      "max    3.062000e+03    1.000000  184.000000\n",
      "\n",
      "the pecentage missing data for glucose is 61.76470588235294%\n",
      "\n",
      "the time range is from 2019-04-25 00:08:00 to 2019-04-25 23:48:00\n"
     ]
    },
    {
     "name": "stderr",
     "output_type": "stream",
     "text": [
      "C:\\Users\\Hedieh\\AppData\\Local\\Temp\\ipykernel_7240\\3107539342.py:21: FutureWarning: In a future version of pandas, a length 1 tuple will be returned when iterating over a groupby with a grouper equal to a list of length 1. Don't supply a list with a single grouper to avoid this warning.\n",
      "  pd.DataFrame(indexed_sorted_df.groupby(['recordtype'])).to_csv('recordtype_grouped.csv')\n"
     ]
    }
   ],
   "source": [
    "#CODE YOUR SOLUTION HERE\n",
    "df = df.reset_index()\n",
    "\n",
    "#quantity of data (observation and features) \n",
    "#after run, We can see that ID, time, and recordtype hav no zero values,\n",
    "#whereas glucozse show a plenty, nearly half of the rows.\n",
    "print(f'\\n {df.info( )}') \n",
    "print(f'\\n {df.describe( )}')\n",
    "\n",
    "\n",
    "#the percentage missing data for the glucose\n",
    "glucose_missData_percent=df['glucose'].isna().sum()/(df['glucose'].count()+df['glucose'].isna().sum())*100\n",
    "print (f\"\\nthe pecentage missing data for glucose is {glucose_missData_percent}%\" ) \n",
    "\n",
    "#time range\n",
    "print (f\"\\nthe time range is from {df['time'].min()} to {df['time'].max()}\" ) \n",
    "\n",
    "#to see if there is a specific pattern for glucose and recordtype. the result are exported into \n",
    "#csv \"recordtype_grouped.csv'file\n",
    "indexed_sorted_df=pd.DataFrame(df.set_index(['recordtype', 'glucose']), ).sort_index()\n",
    "pd.DataFrame(indexed_sorted_df.groupby(['recordtype'])).to_csv('recordtype_grouped.csv')\n",
    "\n",
    "#After inspecting 'recordtype_grouped.csv' file, containing dataframe grouped by recordtype column,\n",
    "#it can bee seen that in  all records with datatype zero, glucose value has been missed.\n",
    "#Furthermore, for almost all records with recordtype=1,  except two, glucose values have been reported."
   ]
  },
  {
   "cell_type": "markdown",
   "metadata": {},
   "source": [
    "After inspecting 'recordtype_grouped.csv' file, containing dataframe grouped by recordtype column it can bee seen that in  all records with datatype zero, glucose value has been missed.Furthermore, for almost all records with recordtype=1,  except two, glucose values have been reported."
   ]
  },
  {
   "cell_type": "raw",
   "metadata": {},
   "source": [
    " Expected outcome percentage missing data\n",
    "0.6176470588235294"
   ]
  },
  {
   "cell_type": "markdown",
   "metadata": {},
   "source": [
    "<a name='3'></a>\n",
    "## Part 4: Interpolate the data\n",
    "\n",
    "A lot of data is missing. Use interpolation to fill the missing values. Create a new column with the interpolated data. Take an argumentative approach. Select an interpolation method that suits the nature of the data and explain your choice. Mind you that the expected outcome of the interpolation values can differ from the example below\n",
    "\n",
    "<details>    \n",
    "<summary>\n",
    "    <font size=\"3\" color=\"darkgreen\"><b>Hints</b></font>\n",
    "</summary>\n",
    "<ul><li>use Pandas.DataFrame.interpolate() method</li>\n",
    "</ul>\n",
    "</details>\n",
    "\n",
    "<a name='ex-41'></a>\n",
    "### Code your solution"
   ]
  },
  {
   "cell_type": "code",
   "execution_count": 47,
   "metadata": {},
   "outputs": [
    {
     "name": "stdout",
     "output_type": "stream",
     "text": [
      "\n",
      " glucose missing value filled by linear interpolate method before emoving related rows to the negative ID column\n",
      "\n",
      "                             ID  recordtype  glucose  interpolated\n",
      "time                                                              \n",
      "2019-04-25 00:08:00        2845           1    109.0    109.000000\n",
      "2019-04-25 00:14:00 -2147483648           0      NaN    109.466667\n",
      "2019-04-25 00:29:00 -2147483648           0      NaN    109.933333\n",
      "2019-04-25 00:44:00 -2147483648           0      NaN    110.400000\n",
      "2019-04-25 00:50:00        2850           1      NaN    110.866667\n",
      "\n",
      " glucose missing value filled by linear interpolate method after removing related rows to the negative ID column \n",
      "\n",
      "                       ID  recordtype  glucose  linear_interpolated\n",
      "time                                                               \n",
      "2019-04-25 00:08:00  2845           1    109.0                109.0\n",
      "2019-04-25 00:50:00  2850           1      NaN                116.0\n",
      "2019-04-25 07:02:00  2877           1    123.0                123.0\n",
      "2019-04-25 07:34:00  2881           1    158.0                158.0\n",
      "2019-04-25 08:19:00  2886           1      NaN                154.5\n",
      "\n",
      " glucose missing value filled by pad interpolate method \n",
      "\n",
      "                       ID  recordtype  glucose  linear_interpolated  \\\n",
      "time                                                                  \n",
      "2019-04-25 00:08:00  2845           1    109.0                109.0   \n",
      "2019-04-25 00:50:00  2850           1      NaN                116.0   \n",
      "2019-04-25 07:02:00  2877           1    123.0                123.0   \n",
      "2019-04-25 07:34:00  2881           1    158.0                158.0   \n",
      "2019-04-25 08:19:00  2886           1      NaN                154.5   \n",
      "\n",
      "                     pad_interpolated  \n",
      "time                                   \n",
      "2019-04-25 00:08:00             109.0  \n",
      "2019-04-25 00:50:00             109.0  \n",
      "2019-04-25 07:02:00             123.0  \n",
      "2019-04-25 07:34:00             158.0  \n",
      "2019-04-25 08:19:00             158.0  \n",
      "\n",
      " glucose missing value filled by polynomial interpolate method \n",
      "\n",
      "                       ID  recordtype  glucose  linear_interpolated  \\\n",
      "time                                                                  \n",
      "2019-04-25 00:08:00  2845           1    109.0                109.0   \n",
      "2019-04-25 00:50:00  2850           1      NaN                116.0   \n",
      "2019-04-25 07:02:00  2877           1    123.0                123.0   \n",
      "2019-04-25 07:34:00  2881           1    158.0                158.0   \n",
      "2019-04-25 08:19:00  2886           1      NaN                154.5   \n",
      "\n",
      "                     pad_interpolated  polynomial_interpolated  \n",
      "time                                                            \n",
      "2019-04-25 00:08:00             109.0               109.000000  \n",
      "2019-04-25 00:50:00             109.0                71.516686  \n",
      "2019-04-25 07:02:00             123.0               123.000000  \n",
      "2019-04-25 07:34:00             158.0               158.000000  \n",
      "2019-04-25 08:19:00             158.0               196.206675  \n",
      "\n",
      " glucose missing value filled by spline interpolate method \n",
      "\n",
      "                       ID  recordtype  glucose  linear_interpolated  \\\n",
      "time                                                                  \n",
      "2019-04-25 00:08:00  2845           1    109.0                109.0   \n",
      "2019-04-25 00:50:00  2850           1      NaN                116.0   \n",
      "2019-04-25 07:02:00  2877           1    123.0                123.0   \n",
      "2019-04-25 07:34:00  2881           1    158.0                158.0   \n",
      "2019-04-25 08:19:00  2886           1      NaN                154.5   \n",
      "\n",
      "                     pad_interpolated  polynomial_interpolated  \\\n",
      "time                                                             \n",
      "2019-04-25 00:08:00             109.0               109.000000   \n",
      "2019-04-25 00:50:00             109.0                71.516686   \n",
      "2019-04-25 07:02:00             123.0               123.000000   \n",
      "2019-04-25 07:34:00             158.0               158.000000   \n",
      "2019-04-25 08:19:00             158.0               196.206675   \n",
      "\n",
      "                     spline_interpolated  \n",
      "time                                      \n",
      "2019-04-25 00:08:00           109.000000  \n",
      "2019-04-25 00:50:00            38.878845  \n",
      "2019-04-25 07:02:00           123.000000  \n",
      "2019-04-25 07:34:00           158.000000  \n",
      "2019-04-25 08:19:00           167.948176  \n"
     ]
    }
   ],
   "source": [
    "#CODE YOUR SOLUTION HERE\n",
    "\n",
    "#this copy containes time  converted   to datetime format and  has been set  as the index of the dataframe\n",
    "df=df_copy\n",
    "\n",
    "#fill glucose missing values by linera interpolate method\n",
    "df['interpolated'] = df['glucose'].interpolate(method='linear')\n",
    "print(\"\\n glucose missing value filled by linear interpolate method before emoving related rows to the negative ID column\\n\")\n",
    "print(df.head())\n",
    "\n",
    "#after ispecting the data, We can see that there is a negative ID value,\n",
    "#with too many NaN values, which is removed along with its related rows,\n",
    "#to yield the better result for interpolation \n",
    "\n",
    "#to undo the last changes of dataframe\n",
    "df=df.drop(['interpolated'], axis=1)\n",
    "\n",
    "#to remove negative ID value as well as its related rows. \n",
    "df=df.drop(df[df['ID'] < 0].index)\n",
    "\n",
    "######################################################################\n",
    "#to examine different methods of interpolation and compare the tesults\n",
    "######################################################################\n",
    "#fill glucose missing value by linera interpolate method\n",
    "df['linear_interpolated'] = df['glucose'].interpolate(method='linear')\n",
    "print(\"\\n glucose missing value filled by linear interpolate method after removing related rows to the negative ID column \\n\")\n",
    "print(df.head())\n",
    "\n",
    "\n",
    "\n",
    "#fill glucose missing value by pad interpolate method\n",
    "df['pad_interpolated'] = df['glucose'].interpolate(method='pad', limit=2)\n",
    "print(\"\\n glucose missing value filled by pad interpolate method \\n\")\n",
    "print(df.head())\n",
    "\n",
    "#fill glucose missing value by polynomial interpolate method\n",
    "df['polynomial_interpolated'] = df['glucose'].interpolate(method='polynomial',order=2)\n",
    "print(\"\\n glucose missing value filled by polynomial interpolate method \\n\")\n",
    "print(df.head())\n",
    "\n",
    "#fill glucose missing value by spline interpolate method\n",
    "df['spline_interpolated'] = df['glucose'].interpolate(method='spline',order=2)\n",
    "print(\"\\n glucose missing value filled by spline interpolate method \\n\")\n",
    "print(df.head())"
   ]
  },
  {
   "cell_type": "markdown",
   "metadata": {},
   "source": [
    "#### Example outcome"
   ]
  },
  {
   "cell_type": "raw",
   "metadata": {},
   "source": [
    "                 time                   ID  recordtype  glucose  interpolated\n",
    "0 2019-04-25 00:08:00                 2845           1    109.0    109.000000\n",
    "1 2019-04-25 00:14:00 -9223372036854775808           0      NaN    109.466667\n",
    "2 2019-04-25 00:29:00 -9223372036854775808           0      NaN    109.933333\n",
    "3 2019-04-25 00:44:00 -9223372036854775808           0      NaN    110.400000\n",
    "4 2019-04-25 00:50:00                 2850           1      NaN    110.866667"
   ]
  },
  {
   "cell_type": "markdown",
   "metadata": {},
   "source": [
    "<a name='4'></a>\n",
    "## Part 5: Plot the data\n",
    "\n",
    "Create a plot with the original data and the interpolated data. Consider what the best representation is for visualisation of actual values and modelled/imputed values. Provide argumentation for the plot of choice. \n",
    "\n",
    "Mind you, there are several types of plots. The most used are: \n",
    "- Compare values->\tBar, boxplot, violin plot, scatter, line. \n",
    "- Show composition-> Stacked bar, pie, mosaic, area, burtin.\n",
    "- Show distribution-> \tHistogram, density, qqplot, bubble. \n",
    "- Analyzing trend-> Line, bar, dual axis \n",
    "- Relations-> Scatter, heatmap\n",
    "\n",
    "\n",
    "### Code your solution"
   ]
  },
  {
   "cell_type": "code",
   "execution_count": 48,
   "metadata": {},
   "outputs": [
    {
     "data": {
      "text/html": [
       "<style>\n",
       "        .bk-notebook-logo {\n",
       "            display: block;\n",
       "            width: 20px;\n",
       "            height: 20px;\n",
       "            background-image: url(data:image/png;base64,iVBORw0KGgoAAAANSUhEUgAAABQAAAAUCAYAAACNiR0NAAAABHNCSVQICAgIfAhkiAAAAAlwSFlzAAALEgAACxIB0t1+/AAAABx0RVh0U29mdHdhcmUAQWRvYmUgRmlyZXdvcmtzIENTNui8sowAAAOkSURBVDiNjZRtaJVlGMd/1/08zzln5zjP1LWcU9N0NkN8m2CYjpgQYQXqSs0I84OLIC0hkEKoPtiH3gmKoiJDU7QpLgoLjLIQCpEsNJ1vqUOdO7ppbuec5+V+rj4ctwzd8IIbbi6u+8f1539dt3A78eXC7QizUF7gyV1fD1Yqg4JWz84yffhm0qkFqBogB9rM8tZdtwVsPUhWhGcFJngGeWrPzHm5oaMmkfEg1usvLFyc8jLRqDOMru7AyC8saQr7GG7f5fvDeH7Ej8CM66nIF+8yngt6HWaKh7k49Soy9nXurCi1o3qUbS3zWfrYeQDTB/Qj6kX6Ybhw4B+bOYoLKCC9H3Nu/leUTZ1JdRWkkn2ldcCamzrcf47KKXdAJllSlxAOkRgyHsGC/zRday5Qld9DyoM4/q/rUoy/CXh3jzOu3bHUVZeU+DEn8FInkPBFlu3+nW3Nw0mk6vCDiWg8CeJaxEwuHS3+z5RgY+YBR6V1Z1nxSOfoaPa4LASWxxdNp+VWTk7+4vzaou8v8PN+xo+KY2xsw6une2frhw05CTYOmQvsEhjhWjn0bmXPjpE1+kplmmkP3suftwTubK9Vq22qKmrBhpY4jvd5afdRA3wGjFAgcnTK2s4hY0/GPNIb0nErGMCRxWOOX64Z8RAC4oCXdklmEvcL8o0BfkNK4lUg9HTl+oPlQxdNo3Mg4Nv175e/1LDGzZen30MEjRUtmXSfiTVu1kK8W4txyV6BMKlbgk3lMwYCiusNy9fVfvvwMxv8Ynl6vxoByANLTWplvuj/nF9m2+PDtt1eiHPBr1oIfhCChQMBw6Aw0UulqTKZdfVvfG7VcfIqLG9bcldL/+pdWTLxLUy8Qq38heUIjh4XlzZxzQm19lLFlr8vdQ97rjZVOLf8nclzckbcD4wxXMidpX30sFd37Fv/GtwwhzhxGVAprjbg0gCAEeIgwCZyTV2Z1REEW8O4py0wsjeloKoMr6iCY6dP92H6Vw/oTyICIthibxjm/DfN9lVz8IqtqKYLUXfoKVMVQVVJOElGjrnnUt9T9wbgp8AyYKaGlqingHZU/uG2NTZSVqwHQTWkx9hxjkpWDaCg6Ckj5qebgBVbT3V3NNXMSiWSDdGV3hrtzla7J+duwPOToIg42ChPQOQjspnSlp1V+Gjdged7+8UN5CRAV7a5EdFNwCjEaBR27b3W890TE7g24NAP/mMDXRWrGoFPQI9ls/MWO2dWFAar/xcOIImbbpA3zgAAAABJRU5ErkJggg==);\n",
       "        }\n",
       "    </style>\n",
       "    <div>\n",
       "        <a href=\"https://bokeh.org\" target=\"_blank\" class=\"bk-notebook-logo\"></a>\n",
       "        <span id=\"p9626\">Loading BokehJS ...</span>\n",
       "    </div>\n"
      ]
     },
     "metadata": {},
     "output_type": "display_data"
    },
    {
     "data": {
      "application/javascript": "(function(root) {\n  function now() {\n    return new Date();\n  }\n\n  const force = true;\n\n  if (typeof root._bokeh_onload_callbacks === \"undefined\" || force === true) {\n    root._bokeh_onload_callbacks = [];\n    root._bokeh_is_loading = undefined;\n  }\n\nconst JS_MIME_TYPE = 'application/javascript';\n  const HTML_MIME_TYPE = 'text/html';\n  const EXEC_MIME_TYPE = 'application/vnd.bokehjs_exec.v0+json';\n  const CLASS_NAME = 'output_bokeh rendered_html';\n\n  /**\n   * Render data to the DOM node\n   */\n  function render(props, node) {\n    const script = document.createElement(\"script\");\n    node.appendChild(script);\n  }\n\n  /**\n   * Handle when an output is cleared or removed\n   */\n  function handleClearOutput(event, handle) {\n    const cell = handle.cell;\n\n    const id = cell.output_area._bokeh_element_id;\n    const server_id = cell.output_area._bokeh_server_id;\n    // Clean up Bokeh references\n    if (id != null && id in Bokeh.index) {\n      Bokeh.index[id].model.document.clear();\n      delete Bokeh.index[id];\n    }\n\n    if (server_id !== undefined) {\n      // Clean up Bokeh references\n      const cmd_clean = \"from bokeh.io.state import curstate; print(curstate().uuid_to_server['\" + server_id + \"'].get_sessions()[0].document.roots[0]._id)\";\n      cell.notebook.kernel.execute(cmd_clean, {\n        iopub: {\n          output: function(msg) {\n            const id = msg.content.text.trim();\n            if (id in Bokeh.index) {\n              Bokeh.index[id].model.document.clear();\n              delete Bokeh.index[id];\n            }\n          }\n        }\n      });\n      // Destroy server and session\n      const cmd_destroy = \"import bokeh.io.notebook as ion; ion.destroy_server('\" + server_id + \"')\";\n      cell.notebook.kernel.execute(cmd_destroy);\n    }\n  }\n\n  /**\n   * Handle when a new output is added\n   */\n  function handleAddOutput(event, handle) {\n    const output_area = handle.output_area;\n    const output = handle.output;\n\n    // limit handleAddOutput to display_data with EXEC_MIME_TYPE content only\n    if ((output.output_type != \"display_data\") || (!Object.prototype.hasOwnProperty.call(output.data, EXEC_MIME_TYPE))) {\n      return\n    }\n\n    const toinsert = output_area.element.find(\".\" + CLASS_NAME.split(' ')[0]);\n\n    if (output.metadata[EXEC_MIME_TYPE][\"id\"] !== undefined) {\n      toinsert[toinsert.length - 1].firstChild.textContent = output.data[JS_MIME_TYPE];\n      // store reference to embed id on output_area\n      output_area._bokeh_element_id = output.metadata[EXEC_MIME_TYPE][\"id\"];\n    }\n    if (output.metadata[EXEC_MIME_TYPE][\"server_id\"] !== undefined) {\n      const bk_div = document.createElement(\"div\");\n      bk_div.innerHTML = output.data[HTML_MIME_TYPE];\n      const script_attrs = bk_div.children[0].attributes;\n      for (let i = 0; i < script_attrs.length; i++) {\n        toinsert[toinsert.length - 1].firstChild.setAttribute(script_attrs[i].name, script_attrs[i].value);\n        toinsert[toinsert.length - 1].firstChild.textContent = bk_div.children[0].textContent\n      }\n      // store reference to server id on output_area\n      output_area._bokeh_server_id = output.metadata[EXEC_MIME_TYPE][\"server_id\"];\n    }\n  }\n\n  function register_renderer(events, OutputArea) {\n\n    function append_mime(data, metadata, element) {\n      // create a DOM node to render to\n      const toinsert = this.create_output_subarea(\n        metadata,\n        CLASS_NAME,\n        EXEC_MIME_TYPE\n      );\n      this.keyboard_manager.register_events(toinsert);\n      // Render to node\n      const props = {data: data, metadata: metadata[EXEC_MIME_TYPE]};\n      render(props, toinsert[toinsert.length - 1]);\n      element.append(toinsert);\n      return toinsert\n    }\n\n    /* Handle when an output is cleared or removed */\n    events.on('clear_output.CodeCell', handleClearOutput);\n    events.on('delete.Cell', handleClearOutput);\n\n    /* Handle when a new output is added */\n    events.on('output_added.OutputArea', handleAddOutput);\n\n    /**\n     * Register the mime type and append_mime function with output_area\n     */\n    OutputArea.prototype.register_mime_type(EXEC_MIME_TYPE, append_mime, {\n      /* Is output safe? */\n      safe: true,\n      /* Index of renderer in `output_area.display_order` */\n      index: 0\n    });\n  }\n\n  // register the mime type if in Jupyter Notebook environment and previously unregistered\n  if (root.Jupyter !== undefined) {\n    const events = require('base/js/events');\n    const OutputArea = require('notebook/js/outputarea').OutputArea;\n\n    if (OutputArea.prototype.mime_types().indexOf(EXEC_MIME_TYPE) == -1) {\n      register_renderer(events, OutputArea);\n    }\n  }\n  if (typeof (root._bokeh_timeout) === \"undefined\" || force === true) {\n    root._bokeh_timeout = Date.now() + 5000;\n    root._bokeh_failed_load = false;\n  }\n\n  const NB_LOAD_WARNING = {'data': {'text/html':\n     \"<div style='background-color: #fdd'>\\n\"+\n     \"<p>\\n\"+\n     \"BokehJS does not appear to have successfully loaded. If loading BokehJS from CDN, this \\n\"+\n     \"may be due to a slow or bad network connection. Possible fixes:\\n\"+\n     \"</p>\\n\"+\n     \"<ul>\\n\"+\n     \"<li>re-rerun `output_notebook()` to attempt to load from CDN again, or</li>\\n\"+\n     \"<li>use INLINE resources instead, as so:</li>\\n\"+\n     \"</ul>\\n\"+\n     \"<code>\\n\"+\n     \"from bokeh.resources import INLINE\\n\"+\n     \"output_notebook(resources=INLINE)\\n\"+\n     \"</code>\\n\"+\n     \"</div>\"}};\n\n  function display_loaded() {\n    const el = document.getElementById(\"p9626\");\n    if (el != null) {\n      el.textContent = \"BokehJS is loading...\";\n    }\n    if (root.Bokeh !== undefined) {\n      if (el != null) {\n        el.textContent = \"BokehJS \" + root.Bokeh.version + \" successfully loaded.\";\n      }\n    } else if (Date.now() < root._bokeh_timeout) {\n      setTimeout(display_loaded, 100)\n    }\n  }\n\n  function run_callbacks() {\n    try {\n      root._bokeh_onload_callbacks.forEach(function(callback) {\n        if (callback != null)\n          callback();\n      });\n    } finally {\n      delete root._bokeh_onload_callbacks\n    }\n    console.debug(\"Bokeh: all callbacks have finished\");\n  }\n\n  function load_libs(css_urls, js_urls, callback) {\n    if (css_urls == null) css_urls = [];\n    if (js_urls == null) js_urls = [];\n\n    root._bokeh_onload_callbacks.push(callback);\n    if (root._bokeh_is_loading > 0) {\n      console.debug(\"Bokeh: BokehJS is being loaded, scheduling callback at\", now());\n      return null;\n    }\n    if (js_urls == null || js_urls.length === 0) {\n      run_callbacks();\n      return null;\n    }\n    console.debug(\"Bokeh: BokehJS not loaded, scheduling load and callback at\", now());\n    root._bokeh_is_loading = css_urls.length + js_urls.length;\n\n    function on_load() {\n      root._bokeh_is_loading--;\n      if (root._bokeh_is_loading === 0) {\n        console.debug(\"Bokeh: all BokehJS libraries/stylesheets loaded\");\n        run_callbacks()\n      }\n    }\n\n    function on_error(url) {\n      console.error(\"failed to load \" + url);\n    }\n\n    for (let i = 0; i < css_urls.length; i++) {\n      const url = css_urls[i];\n      const element = document.createElement(\"link\");\n      element.onload = on_load;\n      element.onerror = on_error.bind(null, url);\n      element.rel = \"stylesheet\";\n      element.type = \"text/css\";\n      element.href = url;\n      console.debug(\"Bokeh: injecting link tag for BokehJS stylesheet: \", url);\n      document.body.appendChild(element);\n    }\n\n    for (let i = 0; i < js_urls.length; i++) {\n      const url = js_urls[i];\n      const element = document.createElement('script');\n      element.onload = on_load;\n      element.onerror = on_error.bind(null, url);\n      element.async = false;\n      element.src = url;\n      console.debug(\"Bokeh: injecting script tag for BokehJS library: \", url);\n      document.head.appendChild(element);\n    }\n  };\n\n  function inject_raw_css(css) {\n    const element = document.createElement(\"style\");\n    element.appendChild(document.createTextNode(css));\n    document.body.appendChild(element);\n  }\n\n  const js_urls = [\"https://cdn.bokeh.org/bokeh/release/bokeh-3.0.2.min.js\", \"https://cdn.bokeh.org/bokeh/release/bokeh-gl-3.0.2.min.js\", \"https://cdn.bokeh.org/bokeh/release/bokeh-widgets-3.0.2.min.js\", \"https://cdn.bokeh.org/bokeh/release/bokeh-tables-3.0.2.min.js\", \"https://cdn.bokeh.org/bokeh/release/bokeh-mathjax-3.0.2.min.js\"];\n  const css_urls = [];\n\n  const inline_js = [    function(Bokeh) {\n      Bokeh.set_log_level(\"info\");\n    },\nfunction(Bokeh) {\n    }\n  ];\n\n  function run_inline_js() {\n    if (root.Bokeh !== undefined || force === true) {\n          for (let i = 0; i < inline_js.length; i++) {\n      inline_js[i].call(root, root.Bokeh);\n    }\nif (force === true) {\n        display_loaded();\n      }} else if (Date.now() < root._bokeh_timeout) {\n      setTimeout(run_inline_js, 100);\n    } else if (!root._bokeh_failed_load) {\n      console.log(\"Bokeh: BokehJS failed to load within specified timeout.\");\n      root._bokeh_failed_load = true;\n    } else if (force !== true) {\n      const cell = $(document.getElementById(\"p9626\")).parents('.cell').data().cell;\n      cell.output_area.append_execute_result(NB_LOAD_WARNING)\n    }\n  }\n\n  if (root._bokeh_is_loading === 0) {\n    console.debug(\"Bokeh: BokehJS loaded, going straight to plotting\");\n    run_inline_js();\n  } else {\n    load_libs(css_urls, js_urls, function() {\n      console.debug(\"Bokeh: BokehJS plotting callback run at\", now());\n      run_inline_js();\n    });\n  }\n}(window));",
      "application/vnd.bokehjs_load.v0+json": ""
     },
     "metadata": {},
     "output_type": "display_data"
    }
   ],
   "source": [
    "from bokeh.io import output_notebook\n",
    "from bokeh.plotting import figure,output_file, show\n",
    "from bokeh.layouts import gridplot\n",
    "from bokeh.io import output_notebook\n",
    "from bokeh.plotting import ColumnDataSource\n",
    "output_notebook()"
   ]
  },
  {
   "cell_type": "code",
   "execution_count": 49,
   "metadata": {},
   "outputs": [
    {
     "data": {
      "text/html": [
       "\n",
       "  <div id=\"14c812d1-855a-4139-8112-98284f87fad5\" data-root-id=\"p9627\" style=\"display: contents;\"></div>\n"
      ]
     },
     "metadata": {},
     "output_type": "display_data"
    },
    {
     "data": {
      "application/javascript": "(function(root) {\n  function embed_document(root) {\n  const docs_json = {\"0120eb2b-4b43-4978-a600-4dbf6141201e\":{\"version\":\"3.0.2\",\"title\":\"Bokeh Application\",\"defs\":[],\"roots\":[{\"type\":\"object\",\"name\":\"Figure\",\"id\":\"p9627\",\"attributes\":{\"x_range\":{\"type\":\"object\",\"name\":\"DataRange1d\",\"id\":\"p9629\"},\"y_range\":{\"type\":\"object\",\"name\":\"DataRange1d\",\"id\":\"p9628\"},\"x_scale\":{\"type\":\"object\",\"name\":\"LinearScale\",\"id\":\"p9641\"},\"y_scale\":{\"type\":\"object\",\"name\":\"LinearScale\",\"id\":\"p9643\"},\"title\":{\"type\":\"object\",\"name\":\"Title\",\"id\":\"p9630\",\"attributes\":{\"text\":\"Multiple Interpolate Methodes on Glucose\"}},\"renderers\":[{\"type\":\"object\",\"name\":\"GlyphRenderer\",\"id\":\"p9716\",\"attributes\":{\"data_source\":{\"type\":\"object\",\"name\":\"ColumnDataSource\",\"id\":\"p9710\",\"attributes\":{\"selected\":{\"type\":\"object\",\"name\":\"Selection\",\"id\":\"p9712\",\"attributes\":{\"indices\":[],\"line_indices\":[]}},\"selection_policy\":{\"type\":\"object\",\"name\":\"UnionRenderers\",\"id\":\"p9711\"},\"data\":{\"type\":\"map\",\"entries\":[[\"x\",{\"type\":\"ndarray\",\"array\":[480000.0,3000000.0,25320000.0,27240000.0,29940000.0,47640000.0,51420000.0,53100000.0,53700000.0,53940000.0,54000000.0,54660000.0,55080000.0,55320000.0,56220000.0,56280000.0,56640000.0,56820000.0,57060000.0,57300000.0,58440000.0,59160000.0,59700000.0,60780000.0,61260000.0,61860000.0,62040000.0,62340000.0,62460000.0,62580000.0,62760000.0,63000000.0,63180000.0,63240000.0,63600000.0,63720000.0,64140000.0,64380000.0,64620000.0,65040000.0,65340000.0,65580000.0,67980000.0,68940000.0,69300000.0,70140000.0,76320000.0,78120000.0,79320000.0,81420000.0,82260000.0,84660000.0],\"shape\":[52],\"dtype\":\"object\",\"order\":\"little\"}],[\"y\",[109.0,{\"type\":\"number\",\"value\":\"nan\"},123.0,158.0,{\"type\":\"number\",\"value\":\"nan\"},151.0,129.0,161.0,184.0,178.0,178.0,121.0,111.0,106.0,91.0,97.0,106.0,106.0,97.0,86.0,114.0,129.0,118.0,118.0,115.0,105.0,109.0,107.0,111.0,120.0,137.0,134.0,129.0,125.0,122.0,124.0,127.0,121.0,123.0,124.0,126.0,128.0,110.0,128.0,116.0,106.0,151.0,126.0,130.0,114.0,106.0,111.0]]]}}},\"view\":{\"type\":\"object\",\"name\":\"CDSView\",\"id\":\"p9717\",\"attributes\":{\"filter\":{\"type\":\"object\",\"name\":\"AllIndices\",\"id\":\"p9718\"}}},\"glyph\":{\"type\":\"object\",\"name\":\"Line\",\"id\":\"p9713\",\"attributes\":{\"x\":{\"type\":\"field\",\"field\":\"x\"},\"y\":{\"type\":\"field\",\"field\":\"y\"},\"line_color\":\"red\",\"line_width\":2}},\"nonselection_glyph\":{\"type\":\"object\",\"name\":\"Line\",\"id\":\"p9714\",\"attributes\":{\"x\":{\"type\":\"field\",\"field\":\"x\"},\"y\":{\"type\":\"field\",\"field\":\"y\"},\"line_color\":\"red\",\"line_alpha\":0.1,\"line_width\":2}},\"muted_glyph\":{\"type\":\"object\",\"name\":\"Line\",\"id\":\"p9715\",\"attributes\":{\"x\":{\"type\":\"field\",\"field\":\"x\"},\"y\":{\"type\":\"field\",\"field\":\"y\"},\"line_color\":\"red\",\"line_alpha\":0.2,\"line_width\":2}}}},{\"type\":\"object\",\"name\":\"GlyphRenderer\",\"id\":\"p9764\",\"attributes\":{\"data_source\":{\"type\":\"object\",\"name\":\"ColumnDataSource\",\"id\":\"p9758\",\"attributes\":{\"selected\":{\"type\":\"object\",\"name\":\"Selection\",\"id\":\"p9760\",\"attributes\":{\"indices\":[],\"line_indices\":[]}},\"selection_policy\":{\"type\":\"object\",\"name\":\"UnionRenderers\",\"id\":\"p9759\"},\"data\":{\"type\":\"map\",\"entries\":[[\"x\",{\"type\":\"ndarray\",\"array\":[480000.0,3000000.0,25320000.0,27240000.0,29940000.0,47640000.0,51420000.0,53100000.0,53700000.0,53940000.0,54000000.0,54660000.0,55080000.0,55320000.0,56220000.0,56280000.0,56640000.0,56820000.0,57060000.0,57300000.0,58440000.0,59160000.0,59700000.0,60780000.0,61260000.0,61860000.0,62040000.0,62340000.0,62460000.0,62580000.0,62760000.0,63000000.0,63180000.0,63240000.0,63600000.0,63720000.0,64140000.0,64380000.0,64620000.0,65040000.0,65340000.0,65580000.0,67980000.0,68940000.0,69300000.0,70140000.0,76320000.0,78120000.0,79320000.0,81420000.0,82260000.0,84660000.0],\"shape\":[52],\"dtype\":\"object\",\"order\":\"little\"}],[\"y\",[109.0,116.0,123.0,158.0,154.5,151.0,129.0,161.0,184.0,178.0,178.0,121.0,111.0,106.0,91.0,97.0,106.0,106.0,97.0,86.0,114.0,129.0,118.0,118.0,115.0,105.0,109.0,107.0,111.0,120.0,137.0,134.0,129.0,125.0,122.0,124.0,127.0,121.0,123.0,124.0,126.0,128.0,110.0,128.0,116.0,106.0,151.0,126.0,130.0,114.0,106.0,111.0]]]}}},\"view\":{\"type\":\"object\",\"name\":\"CDSView\",\"id\":\"p9765\",\"attributes\":{\"filter\":{\"type\":\"object\",\"name\":\"AllIndices\",\"id\":\"p9766\"}}},\"glyph\":{\"type\":\"object\",\"name\":\"Scatter\",\"id\":\"p9761\",\"attributes\":{\"x\":{\"type\":\"field\",\"field\":\"x\"},\"y\":{\"type\":\"field\",\"field\":\"y\"},\"line_color\":{\"type\":\"value\",\"value\":\"red\"},\"line_width\":{\"type\":\"value\",\"value\":2},\"fill_color\":{\"type\":\"value\",\"value\":\"red\"},\"hatch_color\":{\"type\":\"value\",\"value\":\"red\"}}},\"nonselection_glyph\":{\"type\":\"object\",\"name\":\"Scatter\",\"id\":\"p9762\",\"attributes\":{\"x\":{\"type\":\"field\",\"field\":\"x\"},\"y\":{\"type\":\"field\",\"field\":\"y\"},\"line_color\":{\"type\":\"value\",\"value\":\"red\"},\"line_alpha\":{\"type\":\"value\",\"value\":0.1},\"line_width\":{\"type\":\"value\",\"value\":2},\"fill_color\":{\"type\":\"value\",\"value\":\"red\"},\"fill_alpha\":{\"type\":\"value\",\"value\":0.1},\"hatch_color\":{\"type\":\"value\",\"value\":\"red\"},\"hatch_alpha\":{\"type\":\"value\",\"value\":0.1}}},\"muted_glyph\":{\"type\":\"object\",\"name\":\"Scatter\",\"id\":\"p9763\",\"attributes\":{\"x\":{\"type\":\"field\",\"field\":\"x\"},\"y\":{\"type\":\"field\",\"field\":\"y\"},\"line_color\":{\"type\":\"value\",\"value\":\"red\"},\"line_alpha\":{\"type\":\"value\",\"value\":0.2},\"line_width\":{\"type\":\"value\",\"value\":2},\"fill_color\":{\"type\":\"value\",\"value\":\"red\"},\"fill_alpha\":{\"type\":\"value\",\"value\":0.2},\"hatch_color\":{\"type\":\"value\",\"value\":\"red\"},\"hatch_alpha\":{\"type\":\"value\",\"value\":0.2}}}}},{\"type\":\"object\",\"name\":\"GlyphRenderer\",\"id\":\"p9816\",\"attributes\":{\"data_source\":{\"type\":\"object\",\"name\":\"ColumnDataSource\",\"id\":\"p9810\",\"attributes\":{\"selected\":{\"type\":\"object\",\"name\":\"Selection\",\"id\":\"p9812\",\"attributes\":{\"indices\":[],\"line_indices\":[]}},\"selection_policy\":{\"type\":\"object\",\"name\":\"UnionRenderers\",\"id\":\"p9811\"},\"data\":{\"type\":\"map\",\"entries\":[[\"x\",{\"type\":\"ndarray\",\"array\":[480000.0,3000000.0,25320000.0,27240000.0,29940000.0,47640000.0,51420000.0,53100000.0,53700000.0,53940000.0,54000000.0,54660000.0,55080000.0,55320000.0,56220000.0,56280000.0,56640000.0,56820000.0,57060000.0,57300000.0,58440000.0,59160000.0,59700000.0,60780000.0,61260000.0,61860000.0,62040000.0,62340000.0,62460000.0,62580000.0,62760000.0,63000000.0,63180000.0,63240000.0,63600000.0,63720000.0,64140000.0,64380000.0,64620000.0,65040000.0,65340000.0,65580000.0,67980000.0,68940000.0,69300000.0,70140000.0,76320000.0,78120000.0,79320000.0,81420000.0,82260000.0,84660000.0],\"shape\":[52],\"dtype\":\"object\",\"order\":\"little\"}],[\"y\",[109.0,109.0,123.0,158.0,158.0,151.0,129.0,161.0,184.0,178.0,178.0,121.0,111.0,106.0,91.0,97.0,106.0,106.0,97.0,86.0,114.0,129.0,118.0,118.0,115.0,105.0,109.0,107.0,111.0,120.0,137.0,134.0,129.0,125.0,122.0,124.0,127.0,121.0,123.0,124.0,126.0,128.0,110.0,128.0,116.0,106.0,151.0,126.0,130.0,114.0,106.0,111.0]]]}}},\"view\":{\"type\":\"object\",\"name\":\"CDSView\",\"id\":\"p9817\",\"attributes\":{\"filter\":{\"type\":\"object\",\"name\":\"AllIndices\",\"id\":\"p9818\"}}},\"glyph\":{\"type\":\"object\",\"name\":\"Scatter\",\"id\":\"p9813\",\"attributes\":{\"x\":{\"type\":\"field\",\"field\":\"x\"},\"y\":{\"type\":\"field\",\"field\":\"y\"},\"line_color\":{\"type\":\"value\",\"value\":\"#9ebcda\"},\"line_width\":{\"type\":\"value\",\"value\":2},\"fill_color\":{\"type\":\"value\",\"value\":\"#9ebcda\"},\"hatch_color\":{\"type\":\"value\",\"value\":\"#9ebcda\"}}},\"nonselection_glyph\":{\"type\":\"object\",\"name\":\"Scatter\",\"id\":\"p9814\",\"attributes\":{\"x\":{\"type\":\"field\",\"field\":\"x\"},\"y\":{\"type\":\"field\",\"field\":\"y\"},\"line_color\":{\"type\":\"value\",\"value\":\"#9ebcda\"},\"line_alpha\":{\"type\":\"value\",\"value\":0.1},\"line_width\":{\"type\":\"value\",\"value\":2},\"fill_color\":{\"type\":\"value\",\"value\":\"#9ebcda\"},\"fill_alpha\":{\"type\":\"value\",\"value\":0.1},\"hatch_color\":{\"type\":\"value\",\"value\":\"#9ebcda\"},\"hatch_alpha\":{\"type\":\"value\",\"value\":0.1}}},\"muted_glyph\":{\"type\":\"object\",\"name\":\"Scatter\",\"id\":\"p9815\",\"attributes\":{\"x\":{\"type\":\"field\",\"field\":\"x\"},\"y\":{\"type\":\"field\",\"field\":\"y\"},\"line_color\":{\"type\":\"value\",\"value\":\"#9ebcda\"},\"line_alpha\":{\"type\":\"value\",\"value\":0.2},\"line_width\":{\"type\":\"value\",\"value\":2},\"fill_color\":{\"type\":\"value\",\"value\":\"#9ebcda\"},\"fill_alpha\":{\"type\":\"value\",\"value\":0.2},\"hatch_color\":{\"type\":\"value\",\"value\":\"#9ebcda\"},\"hatch_alpha\":{\"type\":\"value\",\"value\":0.2}}}}},{\"type\":\"object\",\"name\":\"GlyphRenderer\",\"id\":\"p9873\",\"attributes\":{\"data_source\":{\"type\":\"object\",\"name\":\"ColumnDataSource\",\"id\":\"p9867\",\"attributes\":{\"selected\":{\"type\":\"object\",\"name\":\"Selection\",\"id\":\"p9869\",\"attributes\":{\"indices\":[],\"line_indices\":[]}},\"selection_policy\":{\"type\":\"object\",\"name\":\"UnionRenderers\",\"id\":\"p9868\"},\"data\":{\"type\":\"map\",\"entries\":[[\"x\",{\"type\":\"ndarray\",\"array\":[480000.0,3000000.0,25320000.0,27240000.0,29940000.0,47640000.0,51420000.0,53100000.0,53700000.0,53940000.0,54000000.0,54660000.0,55080000.0,55320000.0,56220000.0,56280000.0,56640000.0,56820000.0,57060000.0,57300000.0,58440000.0,59160000.0,59700000.0,60780000.0,61260000.0,61860000.0,62040000.0,62340000.0,62460000.0,62580000.0,62760000.0,63000000.0,63180000.0,63240000.0,63600000.0,63720000.0,64140000.0,64380000.0,64620000.0,65040000.0,65340000.0,65580000.0,67980000.0,68940000.0,69300000.0,70140000.0,76320000.0,78120000.0,79320000.0,81420000.0,82260000.0,84660000.0],\"shape\":[52],\"dtype\":\"object\",\"order\":\"little\"}],[\"y\",[109.0,71.51668586952269,123.0,158.0,196.2066751885764,151.0,129.0,161.0,184.0,178.0,178.0,121.0,111.0,106.0,91.0,97.0,106.0,106.0,97.0,86.0,114.0,129.0,118.0,118.0,115.0,105.0,109.0,107.0,111.0,120.0,137.0,134.0,129.0,125.0,122.0,124.0,127.0,121.0,123.0,124.0,126.0,128.0,110.0,128.0,116.0,106.0,151.0,126.0,130.0,114.0,106.0,111.0]]]}}},\"view\":{\"type\":\"object\",\"name\":\"CDSView\",\"id\":\"p9874\",\"attributes\":{\"filter\":{\"type\":\"object\",\"name\":\"AllIndices\",\"id\":\"p9875\"}}},\"glyph\":{\"type\":\"object\",\"name\":\"Scatter\",\"id\":\"p9870\",\"attributes\":{\"x\":{\"type\":\"field\",\"field\":\"x\"},\"y\":{\"type\":\"field\",\"field\":\"y\"},\"line_color\":{\"type\":\"value\",\"value\":\"#31a354\"},\"line_width\":{\"type\":\"value\",\"value\":2},\"fill_color\":{\"type\":\"value\",\"value\":\"#31a354\"},\"hatch_color\":{\"type\":\"value\",\"value\":\"#31a354\"}}},\"nonselection_glyph\":{\"type\":\"object\",\"name\":\"Scatter\",\"id\":\"p9871\",\"attributes\":{\"x\":{\"type\":\"field\",\"field\":\"x\"},\"y\":{\"type\":\"field\",\"field\":\"y\"},\"line_color\":{\"type\":\"value\",\"value\":\"#31a354\"},\"line_alpha\":{\"type\":\"value\",\"value\":0.1},\"line_width\":{\"type\":\"value\",\"value\":2},\"fill_color\":{\"type\":\"value\",\"value\":\"#31a354\"},\"fill_alpha\":{\"type\":\"value\",\"value\":0.1},\"hatch_color\":{\"type\":\"value\",\"value\":\"#31a354\"},\"hatch_alpha\":{\"type\":\"value\",\"value\":0.1}}},\"muted_glyph\":{\"type\":\"object\",\"name\":\"Scatter\",\"id\":\"p9872\",\"attributes\":{\"x\":{\"type\":\"field\",\"field\":\"x\"},\"y\":{\"type\":\"field\",\"field\":\"y\"},\"line_color\":{\"type\":\"value\",\"value\":\"#31a354\"},\"line_alpha\":{\"type\":\"value\",\"value\":0.2},\"line_width\":{\"type\":\"value\",\"value\":2},\"fill_color\":{\"type\":\"value\",\"value\":\"#31a354\"},\"fill_alpha\":{\"type\":\"value\",\"value\":0.2},\"hatch_color\":{\"type\":\"value\",\"value\":\"#31a354\"},\"hatch_alpha\":{\"type\":\"value\",\"value\":0.2}}}}},{\"type\":\"object\",\"name\":\"GlyphRenderer\",\"id\":\"p9935\",\"attributes\":{\"data_source\":{\"type\":\"object\",\"name\":\"ColumnDataSource\",\"id\":\"p9929\",\"attributes\":{\"selected\":{\"type\":\"object\",\"name\":\"Selection\",\"id\":\"p9931\",\"attributes\":{\"indices\":[],\"line_indices\":[]}},\"selection_policy\":{\"type\":\"object\",\"name\":\"UnionRenderers\",\"id\":\"p9930\"},\"data\":{\"type\":\"map\",\"entries\":[[\"x\",{\"type\":\"ndarray\",\"array\":[480000.0,3000000.0,25320000.0,27240000.0,29940000.0,47640000.0,51420000.0,53100000.0,53700000.0,53940000.0,54000000.0,54660000.0,55080000.0,55320000.0,56220000.0,56280000.0,56640000.0,56820000.0,57060000.0,57300000.0,58440000.0,59160000.0,59700000.0,60780000.0,61260000.0,61860000.0,62040000.0,62340000.0,62460000.0,62580000.0,62760000.0,63000000.0,63180000.0,63240000.0,63600000.0,63720000.0,64140000.0,64380000.0,64620000.0,65040000.0,65340000.0,65580000.0,67980000.0,68940000.0,69300000.0,70140000.0,76320000.0,78120000.0,79320000.0,81420000.0,82260000.0,84660000.0],\"shape\":[52],\"dtype\":\"object\",\"order\":\"little\"}],[\"y\",[109.0,38.878845411254986,123.0,158.0,167.94817639106182,151.0,129.0,161.0,184.0,178.0,178.0,121.0,111.0,106.0,91.0,97.0,106.0,106.0,97.0,86.0,114.0,129.0,118.0,118.0,115.0,105.0,109.0,107.0,111.0,120.0,137.0,134.0,129.0,125.0,122.0,124.0,127.0,121.0,123.0,124.0,126.0,128.0,110.0,128.0,116.0,106.0,151.0,126.0,130.0,114.0,106.0,111.0]]]}}},\"view\":{\"type\":\"object\",\"name\":\"CDSView\",\"id\":\"p9936\",\"attributes\":{\"filter\":{\"type\":\"object\",\"name\":\"AllIndices\",\"id\":\"p9937\"}}},\"glyph\":{\"type\":\"object\",\"name\":\"Scatter\",\"id\":\"p9932\",\"attributes\":{\"x\":{\"type\":\"field\",\"field\":\"x\"},\"y\":{\"type\":\"field\",\"field\":\"y\"},\"line_color\":{\"type\":\"value\",\"value\":\"#ffeda0\"},\"line_width\":{\"type\":\"value\",\"value\":2},\"fill_color\":{\"type\":\"value\",\"value\":\"#ffeda0\"},\"hatch_color\":{\"type\":\"value\",\"value\":\"#ffeda0\"}}},\"nonselection_glyph\":{\"type\":\"object\",\"name\":\"Scatter\",\"id\":\"p9933\",\"attributes\":{\"x\":{\"type\":\"field\",\"field\":\"x\"},\"y\":{\"type\":\"field\",\"field\":\"y\"},\"line_color\":{\"type\":\"value\",\"value\":\"#ffeda0\"},\"line_alpha\":{\"type\":\"value\",\"value\":0.1},\"line_width\":{\"type\":\"value\",\"value\":2},\"fill_color\":{\"type\":\"value\",\"value\":\"#ffeda0\"},\"fill_alpha\":{\"type\":\"value\",\"value\":0.1},\"hatch_color\":{\"type\":\"value\",\"value\":\"#ffeda0\"},\"hatch_alpha\":{\"type\":\"value\",\"value\":0.1}}},\"muted_glyph\":{\"type\":\"object\",\"name\":\"Scatter\",\"id\":\"p9934\",\"attributes\":{\"x\":{\"type\":\"field\",\"field\":\"x\"},\"y\":{\"type\":\"field\",\"field\":\"y\"},\"line_color\":{\"type\":\"value\",\"value\":\"#ffeda0\"},\"line_alpha\":{\"type\":\"value\",\"value\":0.2},\"line_width\":{\"type\":\"value\",\"value\":2},\"fill_color\":{\"type\":\"value\",\"value\":\"#ffeda0\"},\"fill_alpha\":{\"type\":\"value\",\"value\":0.2},\"hatch_color\":{\"type\":\"value\",\"value\":\"#ffeda0\"},\"hatch_alpha\":{\"type\":\"value\",\"value\":0.2}}}}}],\"toolbar\":{\"type\":\"object\",\"name\":\"Toolbar\",\"id\":\"p9634\",\"attributes\":{\"tools\":[{\"type\":\"object\",\"name\":\"PanTool\",\"id\":\"p9695\"},{\"type\":\"object\",\"name\":\"WheelZoomTool\",\"id\":\"p9696\"},{\"type\":\"object\",\"name\":\"BoxZoomTool\",\"id\":\"p9697\",\"attributes\":{\"overlay\":{\"type\":\"object\",\"name\":\"BoxAnnotation\",\"id\":\"p9698\",\"attributes\":{\"syncable\":false,\"level\":\"overlay\",\"visible\":false,\"left_units\":\"canvas\",\"right_units\":\"canvas\",\"bottom_units\":\"canvas\",\"top_units\":\"canvas\",\"line_color\":\"black\",\"line_alpha\":1.0,\"line_width\":2,\"line_dash\":[4,4],\"fill_color\":\"lightgrey\",\"fill_alpha\":0.5}}}},{\"type\":\"object\",\"name\":\"SaveTool\",\"id\":\"p9699\"},{\"type\":\"object\",\"name\":\"ResetTool\",\"id\":\"p9700\"},{\"type\":\"object\",\"name\":\"HelpTool\",\"id\":\"p9701\"}]}},\"left\":[{\"type\":\"object\",\"name\":\"LinearAxis\",\"id\":\"p9688\",\"attributes\":{\"ticker\":{\"type\":\"object\",\"name\":\"BasicTicker\",\"id\":\"p9690\",\"attributes\":{\"mantissas\":[1,2,5]}},\"formatter\":{\"type\":\"object\",\"name\":\"NumeralTickFormatter\",\"id\":\"p9996\",\"attributes\":{\"format\":\"0.00\"}},\"axis_label\":\"glucose\",\"major_label_policy\":{\"type\":\"object\",\"name\":\"AllLabels\",\"id\":\"p9689\"}}}],\"below\":[{\"type\":\"object\",\"name\":\"DatetimeAxis\",\"id\":\"p9645\",\"attributes\":{\"ticker\":{\"type\":\"object\",\"name\":\"DatetimeTicker\",\"id\":\"p9647\",\"attributes\":{\"num_minor_ticks\":5,\"tickers\":[{\"type\":\"object\",\"name\":\"AdaptiveTicker\",\"id\":\"p9648\",\"attributes\":{\"num_minor_ticks\":0,\"mantissas\":[1,2,5],\"max_interval\":500.0}},{\"type\":\"object\",\"name\":\"AdaptiveTicker\",\"id\":\"p9649\",\"attributes\":{\"num_minor_ticks\":0,\"base\":60,\"mantissas\":[1,2,5,10,15,20,30],\"min_interval\":1000.0,\"max_interval\":1800000.0}},{\"type\":\"object\",\"name\":\"AdaptiveTicker\",\"id\":\"p9650\",\"attributes\":{\"num_minor_ticks\":0,\"base\":24,\"mantissas\":[1,2,4,6,8,12],\"min_interval\":3600000.0,\"max_interval\":43200000.0}},{\"type\":\"object\",\"name\":\"DaysTicker\",\"id\":\"p9651\",\"attributes\":{\"days\":[1,2,3,4,5,6,7,8,9,10,11,12,13,14,15,16,17,18,19,20,21,22,23,24,25,26,27,28,29,30,31]}},{\"type\":\"object\",\"name\":\"DaysTicker\",\"id\":\"p9652\",\"attributes\":{\"days\":[1,4,7,10,13,16,19,22,25,28]}},{\"type\":\"object\",\"name\":\"DaysTicker\",\"id\":\"p9653\",\"attributes\":{\"days\":[1,8,15,22]}},{\"type\":\"object\",\"name\":\"DaysTicker\",\"id\":\"p9654\",\"attributes\":{\"days\":[1,15]}},{\"type\":\"object\",\"name\":\"MonthsTicker\",\"id\":\"p9655\",\"attributes\":{\"months\":[0,1,2,3,4,5,6,7,8,9,10,11]}},{\"type\":\"object\",\"name\":\"MonthsTicker\",\"id\":\"p9656\",\"attributes\":{\"months\":[0,2,4,6,8,10]}},{\"type\":\"object\",\"name\":\"MonthsTicker\",\"id\":\"p9657\",\"attributes\":{\"months\":[0,4,8]}},{\"type\":\"object\",\"name\":\"MonthsTicker\",\"id\":\"p9658\",\"attributes\":{\"months\":[0,6]}},{\"type\":\"object\",\"name\":\"YearsTicker\",\"id\":\"p9659\"}]}},\"formatter\":{\"type\":\"object\",\"name\":\"DatetimeTickFormatter\",\"id\":\"p9660\"},\"axis_label\":\"time\",\"major_label_policy\":{\"type\":\"object\",\"name\":\"AllLabels\",\"id\":\"p9646\"}}}],\"center\":[{\"type\":\"object\",\"name\":\"Grid\",\"id\":\"p9687\",\"attributes\":{\"axis\":{\"id\":\"p9645\"}}},{\"type\":\"object\",\"name\":\"Grid\",\"id\":\"p9694\",\"attributes\":{\"dimension\":1,\"axis\":{\"id\":\"p9688\"}}},{\"type\":\"object\",\"name\":\"Legend\",\"id\":\"p9756\",\"attributes\":{\"items\":[{\"type\":\"object\",\"name\":\"LegendItem\",\"id\":\"p9757\",\"attributes\":{\"label\":{\"type\":\"value\",\"value\":\"non-interpolated_glucose.\"},\"renderers\":[{\"id\":\"p9716\"}]}},{\"type\":\"object\",\"name\":\"LegendItem\",\"id\":\"p9809\",\"attributes\":{\"label\":{\"type\":\"value\",\"value\":\"linear\"},\"renderers\":[{\"id\":\"p9764\"}]}},{\"type\":\"object\",\"name\":\"LegendItem\",\"id\":\"p9866\",\"attributes\":{\"label\":{\"type\":\"value\",\"value\":\"pad\"},\"renderers\":[{\"id\":\"p9816\"}]}},{\"type\":\"object\",\"name\":\"LegendItem\",\"id\":\"p9928\",\"attributes\":{\"label\":{\"type\":\"value\",\"value\":\"polynomial\"},\"renderers\":[{\"id\":\"p9873\"}]}},{\"type\":\"object\",\"name\":\"LegendItem\",\"id\":\"p9995\",\"attributes\":{\"label\":{\"type\":\"value\",\"value\":\"spline\"},\"renderers\":[{\"id\":\"p9935\"}]}}]}}]}}]}};\n  const render_items = [{\"docid\":\"0120eb2b-4b43-4978-a600-4dbf6141201e\",\"roots\":{\"p9627\":\"14c812d1-855a-4139-8112-98284f87fad5\"},\"root_ids\":[\"p9627\"]}];\n  root.Bokeh.embed.embed_items_notebook(docs_json, render_items);\n  }\n  if (root.Bokeh !== undefined) {\n    embed_document(root);\n  } else {\n    let attempts = 0;\n    const timer = setInterval(function(root) {\n      if (root.Bokeh !== undefined) {\n        clearInterval(timer);\n        embed_document(root);\n      } else {\n        attempts++;\n        if (attempts > 100) {\n          clearInterval(timer);\n          console.log(\"Bokeh: ERROR: Unable to run BokehJS code because BokehJS library is missing\");\n        }\n      }\n    }, 10, root)\n  }\n})(window);",
      "application/vnd.bokehjs_exec.v0+json": ""
     },
     "metadata": {
      "application/vnd.bokehjs_exec.v0+json": {
       "id": "p9627"
      }
     },
     "output_type": "display_data"
    }
   ],
   "source": [
    "from bokeh.plotting import figure,gridplot, show\n",
    "from bokeh.models import DatetimeTickFormatter, NumeralTickFormatter\n",
    "#########################################\n",
    "#data preperation for plots\n",
    "#########################################\n",
    "df = df.reset_index()\n",
    "\n",
    "#to get the time part of the datetime datatype\n",
    "x=df['time'].dt.time\n",
    "\n",
    "#to get the values of y axis\n",
    "y=[df['linear_interpolated'].values.tolist(),df['pad_interpolated'].values.tolist(),df['polynomial_interpolated'].values.tolist(),df['spline_interpolated'].values.tolist()]\n",
    "\n",
    "#to get the  diagrams' color\n",
    "colors=[\"red\",\"#9ebcda\",\"#31a354\",\"#ffeda0\",\"#fc9272\"]\n",
    "\n",
    "#to get the  diagrams' label\n",
    "leg_label=['linear','pad','polynomial','spline']\n",
    "\n",
    "# create a new plot with a title and axis labels\n",
    "p = figure(title=\"Multiple Interpolate Methodes on Glucose\", x_axis_label=\"time\",x_axis_type=\"datetime\", y_axis_label=\"glucose\")\n",
    "\n",
    "# add multiple renderers\n",
    "p.line(x, df['glucose'].values.tolist(), legend_label=\"non-interpolated_glucose.\", color=\"red\", line_width=2)\n",
    "\n",
    "axis_indx=0\n",
    "for axis_indx in range(len(y)):\n",
    "       p.scatter(x, y[axis_indx], legend_label=leg_label[axis_indx], color=colors[axis_indx], line_width=2)\n",
    "      \n",
    "\n",
    "\n",
    "#to display axis in a appropriate format\n",
    "p.yaxis.formatter = NumeralTickFormatter(format=\"0.00\")\n",
    "\n",
    "# show the plots\n",
    "show(p)"
   ]
  },
  {
   "cell_type": "code",
   "execution_count": 50,
   "metadata": {},
   "outputs": [],
   "source": [
    "#According the plots it seems that pad and linear interpolating methods, both, suits the data beter."
   ]
  },
  {
   "cell_type": "markdown",
   "metadata": {},
   "source": [
    "<a name='6'></a>\n",
    "## Part 6: Challenge\n",
    "\n",
    "It might even be interesting to introduce a widget in which you can select different methods to interpolate.\n",
    "1. Can you improve the interpolation by choosing an other method?\n",
    "2. Can you add an rolling mean line? \n",
    "2. Can you improve the plot by making it interactive?\n",
    "\n",
    "<a name='ex-61'></a>\n",
    "### Code your solution"
   ]
  },
  {
   "cell_type": "code",
   "execution_count": 53,
   "metadata": {},
   "outputs": [
    {
     "name": "stdout",
     "output_type": "stream",
     "text": [
      "                 time    ID  linear_interpolated  rolling_glucose_3\n",
      "0 2019-04-25 00:08:00  2845                109.0                NaN\n",
      "1 2019-04-25 00:50:00  2850                116.0                NaN\n",
      "2 2019-04-25 07:02:00  2877                123.0         116.000000\n",
      "3 2019-04-25 07:34:00  2881                158.0         132.333333\n",
      "4 2019-04-25 08:19:00  2886                154.5         145.166667\n",
      "5 2019-04-25 13:14:00  2909                151.0         154.500000\n",
      "6 2019-04-25 14:17:00  2916                129.0         144.833333\n",
      "7 2019-04-25 14:45:00  2922                161.0         147.000000\n",
      "8 2019-04-25 14:55:00  2925                184.0         158.000000\n",
      "9 2019-04-25 14:59:00  2927                178.0         174.333333\n"
     ]
    },
    {
     "data": {
      "text/html": [
       "\n",
       "  <div id=\"abbd53b8-51ea-4b16-af3b-6cbd12ad2258\" data-root-id=\"p11616\" style=\"display: contents;\"></div>\n"
      ]
     },
     "metadata": {},
     "output_type": "display_data"
    },
    {
     "data": {
      "application/javascript": "(function(root) {\n  function embed_document(root) {\n  const docs_json = {\"3546a802-afb6-42e5-98e2-832eb575f5cc\":{\"version\":\"3.0.2\",\"title\":\"Bokeh Application\",\"defs\":[],\"roots\":[{\"type\":\"object\",\"name\":\"Figure\",\"id\":\"p11616\",\"attributes\":{\"x_range\":{\"type\":\"object\",\"name\":\"DataRange1d\",\"id\":\"p11618\"},\"y_range\":{\"type\":\"object\",\"name\":\"DataRange1d\",\"id\":\"p11617\"},\"x_scale\":{\"type\":\"object\",\"name\":\"LinearScale\",\"id\":\"p11630\"},\"y_scale\":{\"type\":\"object\",\"name\":\"LinearScale\",\"id\":\"p11632\"},\"title\":{\"type\":\"object\",\"name\":\"Title\",\"id\":\"p11619\",\"attributes\":{\"text\":\"The glucose interpolated by linear regresion compared to the rolling mean\"}},\"renderers\":[{\"type\":\"object\",\"name\":\"GlyphRenderer\",\"id\":\"p11705\",\"attributes\":{\"data_source\":{\"type\":\"object\",\"name\":\"ColumnDataSource\",\"id\":\"p11699\",\"attributes\":{\"selected\":{\"type\":\"object\",\"name\":\"Selection\",\"id\":\"p11701\",\"attributes\":{\"indices\":[],\"line_indices\":[]}},\"selection_policy\":{\"type\":\"object\",\"name\":\"UnionRenderers\",\"id\":\"p11700\"},\"data\":{\"type\":\"map\",\"entries\":[[\"x\",{\"type\":\"ndarray\",\"array\":[480000.0,3000000.0,25320000.0,27240000.0,29940000.0,47640000.0,51420000.0,53100000.0,53700000.0,53940000.0,54000000.0,54660000.0,55080000.0,55320000.0,56220000.0,56280000.0,56640000.0,56820000.0,57060000.0,57300000.0,58440000.0,59160000.0,59700000.0,60780000.0,61260000.0,61860000.0,62040000.0,62340000.0,62460000.0,62580000.0,62760000.0,63000000.0,63180000.0,63240000.0,63600000.0,63720000.0,64140000.0,64380000.0,64620000.0,65040000.0,65340000.0,65580000.0,67980000.0,68940000.0,69300000.0,70140000.0,76320000.0,78120000.0,79320000.0,81420000.0,82260000.0,84660000.0],\"shape\":[52],\"dtype\":\"object\",\"order\":\"little\"}],[\"y\",[109.0,116.0,123.0,158.0,154.5,151.0,129.0,161.0,184.0,178.0,178.0,121.0,111.0,106.0,91.0,97.0,106.0,106.0,97.0,86.0,114.0,129.0,118.0,118.0,115.0,105.0,109.0,107.0,111.0,120.0,137.0,134.0,129.0,125.0,122.0,124.0,127.0,121.0,123.0,124.0,126.0,128.0,110.0,128.0,116.0,106.0,151.0,126.0,130.0,114.0,106.0,111.0]]]}}},\"view\":{\"type\":\"object\",\"name\":\"CDSView\",\"id\":\"p11706\",\"attributes\":{\"filter\":{\"type\":\"object\",\"name\":\"AllIndices\",\"id\":\"p11707\"}}},\"glyph\":{\"type\":\"object\",\"name\":\"Line\",\"id\":\"p11702\",\"attributes\":{\"x\":{\"type\":\"field\",\"field\":\"x\"},\"y\":{\"type\":\"field\",\"field\":\"y\"},\"line_color\":\"red\",\"line_width\":2}},\"nonselection_glyph\":{\"type\":\"object\",\"name\":\"Line\",\"id\":\"p11703\",\"attributes\":{\"x\":{\"type\":\"field\",\"field\":\"x\"},\"y\":{\"type\":\"field\",\"field\":\"y\"},\"line_color\":\"red\",\"line_alpha\":0.1,\"line_width\":2}},\"muted_glyph\":{\"type\":\"object\",\"name\":\"Line\",\"id\":\"p11704\",\"attributes\":{\"x\":{\"type\":\"field\",\"field\":\"x\"},\"y\":{\"type\":\"field\",\"field\":\"y\"},\"line_color\":\"red\",\"line_alpha\":0.2,\"line_width\":2}}}},{\"type\":\"object\",\"name\":\"GlyphRenderer\",\"id\":\"p11753\",\"attributes\":{\"data_source\":{\"type\":\"object\",\"name\":\"ColumnDataSource\",\"id\":\"p11747\",\"attributes\":{\"selected\":{\"type\":\"object\",\"name\":\"Selection\",\"id\":\"p11749\",\"attributes\":{\"indices\":[],\"line_indices\":[]}},\"selection_policy\":{\"type\":\"object\",\"name\":\"UnionRenderers\",\"id\":\"p11748\"},\"data\":{\"type\":\"map\",\"entries\":[[\"x\",{\"type\":\"ndarray\",\"array\":[480000.0,3000000.0,25320000.0,27240000.0,29940000.0,47640000.0,51420000.0,53100000.0,53700000.0,53940000.0,54000000.0,54660000.0,55080000.0,55320000.0,56220000.0,56280000.0,56640000.0,56820000.0,57060000.0,57300000.0,58440000.0,59160000.0,59700000.0,60780000.0,61260000.0,61860000.0,62040000.0,62340000.0,62460000.0,62580000.0,62760000.0,63000000.0,63180000.0,63240000.0,63600000.0,63720000.0,64140000.0,64380000.0,64620000.0,65040000.0,65340000.0,65580000.0,67980000.0,68940000.0,69300000.0,70140000.0,76320000.0,78120000.0,79320000.0,81420000.0,82260000.0,84660000.0],\"shape\":[52],\"dtype\":\"object\",\"order\":\"little\"}],[\"y\",[{\"type\":\"number\",\"value\":\"nan\"},{\"type\":\"number\",\"value\":\"nan\"},116.0,132.33333333333334,145.16666666666666,154.5,144.83333333333334,147.0,158.0,174.33333333333334,180.0,159.0,136.66666666666666,112.66666666666667,102.66666666666667,98.0,98.0,103.0,103.0,96.33333333333333,99.0,109.66666666666667,120.33333333333333,121.66666666666667,117.0,112.66666666666667,109.66666666666667,107.0,109.0,112.66666666666667,122.66666666666667,130.33333333333334,133.33333333333334,129.33333333333334,125.33333333333333,123.66666666666667,124.33333333333333,124.0,123.66666666666667,122.66666666666667,124.33333333333333,126.0,121.33333333333333,122.0,118.0,116.66666666666667,124.33333333333333,127.66666666666667,135.66666666666666,123.33333333333333,116.66666666666667,110.33333333333333]]]}}},\"view\":{\"type\":\"object\",\"name\":\"CDSView\",\"id\":\"p11754\",\"attributes\":{\"filter\":{\"type\":\"object\",\"name\":\"AllIndices\",\"id\":\"p11755\"}}},\"glyph\":{\"type\":\"object\",\"name\":\"Line\",\"id\":\"p11750\",\"attributes\":{\"x\":{\"type\":\"field\",\"field\":\"x\"},\"y\":{\"type\":\"field\",\"field\":\"y\"},\"line_color\":\"green\",\"line_width\":2}},\"nonselection_glyph\":{\"type\":\"object\",\"name\":\"Line\",\"id\":\"p11751\",\"attributes\":{\"x\":{\"type\":\"field\",\"field\":\"x\"},\"y\":{\"type\":\"field\",\"field\":\"y\"},\"line_color\":\"green\",\"line_alpha\":0.1,\"line_width\":2}},\"muted_glyph\":{\"type\":\"object\",\"name\":\"Line\",\"id\":\"p11752\",\"attributes\":{\"x\":{\"type\":\"field\",\"field\":\"x\"},\"y\":{\"type\":\"field\",\"field\":\"y\"},\"line_color\":\"green\",\"line_alpha\":0.2,\"line_width\":2}}}}],\"toolbar\":{\"type\":\"object\",\"name\":\"Toolbar\",\"id\":\"p11623\",\"attributes\":{\"tools\":[{\"type\":\"object\",\"name\":\"PanTool\",\"id\":\"p11684\"},{\"type\":\"object\",\"name\":\"WheelZoomTool\",\"id\":\"p11685\"},{\"type\":\"object\",\"name\":\"BoxZoomTool\",\"id\":\"p11686\",\"attributes\":{\"overlay\":{\"type\":\"object\",\"name\":\"BoxAnnotation\",\"id\":\"p11687\",\"attributes\":{\"syncable\":false,\"level\":\"overlay\",\"visible\":false,\"left_units\":\"canvas\",\"right_units\":\"canvas\",\"bottom_units\":\"canvas\",\"top_units\":\"canvas\",\"line_color\":\"black\",\"line_alpha\":1.0,\"line_width\":2,\"line_dash\":[4,4],\"fill_color\":\"lightgrey\",\"fill_alpha\":0.5}}}},{\"type\":\"object\",\"name\":\"SaveTool\",\"id\":\"p11688\"},{\"type\":\"object\",\"name\":\"ResetTool\",\"id\":\"p11689\"},{\"type\":\"object\",\"name\":\"HelpTool\",\"id\":\"p11690\"}]}},\"left\":[{\"type\":\"object\",\"name\":\"LinearAxis\",\"id\":\"p11677\",\"attributes\":{\"ticker\":{\"type\":\"object\",\"name\":\"BasicTicker\",\"id\":\"p11679\",\"attributes\":{\"mantissas\":[1,2,5]}},\"formatter\":{\"type\":\"object\",\"name\":\"BasicTickFormatter\",\"id\":\"p11680\"},\"axis_label\":\"glucose\",\"major_label_policy\":{\"type\":\"object\",\"name\":\"AllLabels\",\"id\":\"p11678\"}}}],\"below\":[{\"type\":\"object\",\"name\":\"DatetimeAxis\",\"id\":\"p11634\",\"attributes\":{\"ticker\":{\"type\":\"object\",\"name\":\"DatetimeTicker\",\"id\":\"p11636\",\"attributes\":{\"num_minor_ticks\":5,\"tickers\":[{\"type\":\"object\",\"name\":\"AdaptiveTicker\",\"id\":\"p11637\",\"attributes\":{\"num_minor_ticks\":0,\"mantissas\":[1,2,5],\"max_interval\":500.0}},{\"type\":\"object\",\"name\":\"AdaptiveTicker\",\"id\":\"p11638\",\"attributes\":{\"num_minor_ticks\":0,\"base\":60,\"mantissas\":[1,2,5,10,15,20,30],\"min_interval\":1000.0,\"max_interval\":1800000.0}},{\"type\":\"object\",\"name\":\"AdaptiveTicker\",\"id\":\"p11639\",\"attributes\":{\"num_minor_ticks\":0,\"base\":24,\"mantissas\":[1,2,4,6,8,12],\"min_interval\":3600000.0,\"max_interval\":43200000.0}},{\"type\":\"object\",\"name\":\"DaysTicker\",\"id\":\"p11640\",\"attributes\":{\"days\":[1,2,3,4,5,6,7,8,9,10,11,12,13,14,15,16,17,18,19,20,21,22,23,24,25,26,27,28,29,30,31]}},{\"type\":\"object\",\"name\":\"DaysTicker\",\"id\":\"p11641\",\"attributes\":{\"days\":[1,4,7,10,13,16,19,22,25,28]}},{\"type\":\"object\",\"name\":\"DaysTicker\",\"id\":\"p11642\",\"attributes\":{\"days\":[1,8,15,22]}},{\"type\":\"object\",\"name\":\"DaysTicker\",\"id\":\"p11643\",\"attributes\":{\"days\":[1,15]}},{\"type\":\"object\",\"name\":\"MonthsTicker\",\"id\":\"p11644\",\"attributes\":{\"months\":[0,1,2,3,4,5,6,7,8,9,10,11]}},{\"type\":\"object\",\"name\":\"MonthsTicker\",\"id\":\"p11645\",\"attributes\":{\"months\":[0,2,4,6,8,10]}},{\"type\":\"object\",\"name\":\"MonthsTicker\",\"id\":\"p11646\",\"attributes\":{\"months\":[0,4,8]}},{\"type\":\"object\",\"name\":\"MonthsTicker\",\"id\":\"p11647\",\"attributes\":{\"months\":[0,6]}},{\"type\":\"object\",\"name\":\"YearsTicker\",\"id\":\"p11648\"}]}},\"formatter\":{\"type\":\"object\",\"name\":\"DatetimeTickFormatter\",\"id\":\"p11649\"},\"axis_label\":\"time\",\"major_label_policy\":{\"type\":\"object\",\"name\":\"AllLabels\",\"id\":\"p11635\"}}}],\"center\":[{\"type\":\"object\",\"name\":\"Grid\",\"id\":\"p11676\",\"attributes\":{\"axis\":{\"id\":\"p11634\"}}},{\"type\":\"object\",\"name\":\"Grid\",\"id\":\"p11683\",\"attributes\":{\"dimension\":1,\"axis\":{\"id\":\"p11677\"}}},{\"type\":\"object\",\"name\":\"Legend\",\"id\":\"p11745\",\"attributes\":{\"items\":[{\"type\":\"object\",\"name\":\"LegendItem\",\"id\":\"p11746\",\"attributes\":{\"label\":{\"type\":\"value\",\"value\":\"glucose\"},\"renderers\":[{\"id\":\"p11705\"}]}},{\"type\":\"object\",\"name\":\"LegendItem\",\"id\":\"p11798\",\"attributes\":{\"label\":{\"type\":\"value\",\"value\":\"rolling mean\"},\"renderers\":[{\"id\":\"p11753\"}]}}]}}]}}]}};\n  const render_items = [{\"docid\":\"3546a802-afb6-42e5-98e2-832eb575f5cc\",\"roots\":{\"p11616\":\"abbd53b8-51ea-4b16-af3b-6cbd12ad2258\"},\"root_ids\":[\"p11616\"]}];\n  root.Bokeh.embed.embed_items_notebook(docs_json, render_items);\n  }\n  if (root.Bokeh !== undefined) {\n    embed_document(root);\n  } else {\n    let attempts = 0;\n    const timer = setInterval(function(root) {\n      if (root.Bokeh !== undefined) {\n        clearInterval(timer);\n        embed_document(root);\n      } else {\n        attempts++;\n        if (attempts > 100) {\n          clearInterval(timer);\n          console.log(\"Bokeh: ERROR: Unable to run BokehJS code because BokehJS library is missing\");\n        }\n      }\n    }, 10, root)\n  }\n})(window);",
      "application/vnd.bokehjs_exec.v0+json": ""
     },
     "metadata": {
      "application/vnd.bokehjs_exec.v0+json": {
       "id": "p11616"
      }
     },
     "output_type": "display_data"
    }
   ],
   "source": [
    "\n",
    "from bokeh.io import show\n",
    "\n",
    "#calculate rolling mean of  3 former values  for glocuse\n",
    "df['rolling_glucose_3'] = df['linear_interpolated'].rolling(3).mean() \n",
    "\n",
    "#filter to view a subset of columns \n",
    "print(df.loc[:,['time', 'ID', 'linear_interpolated','rolling_glucose_3' ]].head(10))\n",
    "\n",
    "#visualize the glucose compared to the rolling mean \n",
    "#define the  plot\n",
    "x=df['time'].dt.time\n",
    "y=[]\n",
    "y =[df['linear_interpolated'].values.tolist(),df['rolling_glucose_3'].values.tolist()] \n",
    "\n",
    "leg_lable=['glucose','rolling mean']\n",
    "colors=['red','green'] \n",
    "# create a new plot with a title and axis labels\n",
    "p = figure(title=\"The glucose interpolated by linear regresion compared to the rolling mean\", x_axis_label=\"time\",x_axis_type=\"datetime\", y_axis_label=\"glucose\")\n",
    "axis_indx=0\n",
    "for axis_indx in range(len(y)):\n",
    "       p.line(x, y[axis_indx], legend_label=leg_lable[axis_indx], color=colors[axis_indx], line_width=2)\n",
    "      \n",
    "#show the plots\n",
    "show(p)     "
   ]
  },
  {
   "cell_type": "code",
   "execution_count": 108,
   "metadata": {},
   "outputs": [
    {
     "data": {
      "text/html": [
       "\n",
       "  <div id=\"4498e3f5-c64c-41c2-8254-06be96ea3ed6\" data-root-id=\"p80716\" style=\"display: contents;\"></div>\n"
      ]
     },
     "metadata": {},
     "output_type": "display_data"
    },
    {
     "data": {
      "application/javascript": "(function(root) {\n  function embed_document(root) {\n  const docs_json = {\"e36a7f00-be85-4962-8caa-ea279606b618\":{\"version\":\"3.0.2\",\"title\":\"Bokeh Application\",\"defs\":[],\"roots\":[{\"type\":\"object\",\"name\":\"Column\",\"id\":\"p80716\",\"attributes\":{\"children\":[{\"type\":\"object\",\"name\":\"Figure\",\"id\":\"p80528\",\"attributes\":{\"x_range\":{\"type\":\"object\",\"name\":\"DataRange1d\",\"id\":\"p80530\"},\"y_range\":{\"type\":\"object\",\"name\":\"DataRange1d\",\"id\":\"p80529\"},\"x_scale\":{\"type\":\"object\",\"name\":\"LinearScale\",\"id\":\"p80542\"},\"y_scale\":{\"type\":\"object\",\"name\":\"LinearScale\",\"id\":\"p80544\"},\"title\":{\"type\":\"object\",\"name\":\"Title\",\"id\":\"p80531\",\"attributes\":{\"text\":\"the glucose interpolated by linear regresion compared to the rolling mean of it\"}},\"renderers\":[{\"type\":\"object\",\"name\":\"GlyphRenderer\",\"id\":\"p80617\",\"attributes\":{\"data_source\":{\"type\":\"object\",\"name\":\"ColumnDataSource\",\"id\":\"p80611\",\"attributes\":{\"selected\":{\"type\":\"object\",\"name\":\"Selection\",\"id\":\"p80613\",\"attributes\":{\"indices\":[],\"line_indices\":[]}},\"selection_policy\":{\"type\":\"object\",\"name\":\"UnionRenderers\",\"id\":\"p80612\"},\"data\":{\"type\":\"map\",\"entries\":[[\"x\",{\"type\":\"ndarray\",\"array\":[480000.0,3000000.0,25320000.0,27240000.0,29940000.0,47640000.0,51420000.0,53100000.0,53700000.0,53940000.0,54000000.0,54660000.0,55080000.0,55320000.0,56220000.0,56280000.0,56640000.0,56820000.0,57060000.0,57300000.0,58440000.0,59160000.0,59700000.0,60780000.0,61260000.0,61860000.0,62040000.0,62340000.0,62460000.0,62580000.0,62760000.0,63000000.0,63180000.0,63240000.0,63600000.0,63720000.0,64140000.0,64380000.0,64620000.0,65040000.0,65340000.0,65580000.0,67980000.0,68940000.0,69300000.0,70140000.0,76320000.0,78120000.0,79320000.0,81420000.0,82260000.0,84660000.0],\"shape\":[52],\"dtype\":\"object\",\"order\":\"little\"}],[\"y\",[109.0,116.0,123.0,158.0,154.5,151.0,129.0,161.0,184.0,178.0,178.0,121.0,111.0,106.0,91.0,97.0,106.0,106.0,97.0,86.0,114.0,129.0,118.0,118.0,115.0,105.0,109.0,107.0,111.0,120.0,137.0,134.0,129.0,125.0,122.0,124.0,127.0,121.0,123.0,124.0,126.0,128.0,110.0,128.0,116.0,106.0,151.0,126.0,130.0,114.0,106.0,111.0]]]}}},\"view\":{\"type\":\"object\",\"name\":\"CDSView\",\"id\":\"p80618\",\"attributes\":{\"filter\":{\"type\":\"object\",\"name\":\"AllIndices\",\"id\":\"p80619\"}}},\"glyph\":{\"type\":\"object\",\"name\":\"Line\",\"id\":\"p80614\",\"attributes\":{\"x\":{\"type\":\"field\",\"field\":\"x\"},\"y\":{\"type\":\"field\",\"field\":\"y\"},\"line_color\":\"red\",\"line_width\":2}},\"nonselection_glyph\":{\"type\":\"object\",\"name\":\"Line\",\"id\":\"p80615\",\"attributes\":{\"x\":{\"type\":\"field\",\"field\":\"x\"},\"y\":{\"type\":\"field\",\"field\":\"y\"},\"line_color\":\"red\",\"line_alpha\":0.1,\"line_width\":2}},\"muted_glyph\":{\"type\":\"object\",\"name\":\"Line\",\"id\":\"p80616\",\"attributes\":{\"x\":{\"type\":\"field\",\"field\":\"x\"},\"y\":{\"type\":\"field\",\"field\":\"y\"},\"line_color\":\"red\",\"line_alpha\":0.2,\"line_width\":2}}}},{\"type\":\"object\",\"name\":\"GlyphRenderer\",\"id\":\"p80669\",\"attributes\":{\"data_source\":{\"type\":\"object\",\"name\":\"ColumnDataSource\",\"id\":\"p80660\",\"attributes\":{\"selected\":{\"type\":\"object\",\"name\":\"Selection\",\"id\":\"p80662\",\"attributes\":{\"indices\":[],\"line_indices\":[]}},\"selection_policy\":{\"type\":\"object\",\"name\":\"UnionRenderers\",\"id\":\"p80661\"},\"data\":{\"type\":\"map\",\"entries\":[[\"x\",{\"type\":\"ndarray\",\"array\":[480000.0,3000000.0,25320000.0,27240000.0,29940000.0,47640000.0,51420000.0,53100000.0,53700000.0,53940000.0,54000000.0,54660000.0,55080000.0,55320000.0,56220000.0,56280000.0,56640000.0,56820000.0,57060000.0,57300000.0,58440000.0,59160000.0,59700000.0,60780000.0,61260000.0,61860000.0,62040000.0,62340000.0,62460000.0,62580000.0,62760000.0,63000000.0,63180000.0,63240000.0,63600000.0,63720000.0,64140000.0,64380000.0,64620000.0,65040000.0,65340000.0,65580000.0,67980000.0,68940000.0,69300000.0,70140000.0,76320000.0,78120000.0,79320000.0,81420000.0,82260000.0,84660000.0],\"shape\":[52],\"dtype\":\"object\",\"order\":\"little\"}],[\"y\",{\"type\":\"ndarray\",\"array\":{\"type\":\"bytes\",\"data\":\"AAAAAABAW0AAAAAAAABdQAAAAAAAwF5AAAAAAADAY0AAAAAAAFBjQAAAAAAA4GJAAAAAAAAgYEAAAAAAACBkQAAAAAAAAGdAAAAAAABAZkAAAAAAAEBmQAAAAAAAQF5AAAAAAADAW0AAAAAAAIBaQAAAAAAAwFZAAAAAAABAWEAAAAAAAIBaQAAAAAAAgFpAAAAAAABAWEAAAAAAAIBVQAAAAAAAgFxAAAAAAAAgYEAAAAAAAIBdQAAAAAAAgF1AAAAAAADAXEAAAAAAAEBaQAAAAAAAQFtAAAAAAADAWkAAAAAAAMBbQAAAAAAAAF5AAAAAAAAgYUAAAAAAAMBgQAAAAAAAIGBAAAAAAABAX0AAAAAAAIBeQAAAAAAAAF9AAAAAAADAX0AAAAAAAEBeQAAAAAAAwF5AAAAAAAAAX0AAAAAAAIBfQAAAAAAAAGBAAAAAAACAW0AAAAAAAABgQAAAAAAAAF1AAAAAAACAWkAAAAAAAOBiQAAAAAAAgF9AAAAAAABAYEAAAAAAAIBcQAAAAAAAgFpAAAAAAADAW0A=\"},\"shape\":[52],\"dtype\":\"float64\",\"order\":\"little\"}]]}}},\"view\":{\"type\":\"object\",\"name\":\"CDSView\",\"id\":\"p80670\",\"attributes\":{\"filter\":{\"type\":\"object\",\"name\":\"AllIndices\",\"id\":\"p80671\"}}},\"glyph\":{\"type\":\"object\",\"name\":\"Line\",\"id\":\"p80666\",\"attributes\":{\"x\":{\"type\":\"field\",\"field\":\"x\"},\"y\":{\"type\":\"field\",\"field\":\"y\"},\"line_color\":\"green\",\"line_width\":2}},\"nonselection_glyph\":{\"type\":\"object\",\"name\":\"Line\",\"id\":\"p80667\",\"attributes\":{\"x\":{\"type\":\"field\",\"field\":\"x\"},\"y\":{\"type\":\"field\",\"field\":\"y\"},\"line_color\":\"green\",\"line_alpha\":0.1,\"line_width\":2}},\"muted_glyph\":{\"type\":\"object\",\"name\":\"Line\",\"id\":\"p80668\",\"attributes\":{\"x\":{\"type\":\"field\",\"field\":\"x\"},\"y\":{\"type\":\"field\",\"field\":\"y\"},\"line_color\":\"green\",\"line_alpha\":0.2,\"line_width\":2}}}}],\"toolbar\":{\"type\":\"object\",\"name\":\"Toolbar\",\"id\":\"p80535\",\"attributes\":{\"tools\":[{\"type\":\"object\",\"name\":\"PanTool\",\"id\":\"p80596\"},{\"type\":\"object\",\"name\":\"WheelZoomTool\",\"id\":\"p80597\"},{\"type\":\"object\",\"name\":\"BoxZoomTool\",\"id\":\"p80598\",\"attributes\":{\"overlay\":{\"type\":\"object\",\"name\":\"BoxAnnotation\",\"id\":\"p80599\",\"attributes\":{\"syncable\":false,\"level\":\"overlay\",\"visible\":false,\"left_units\":\"canvas\",\"right_units\":\"canvas\",\"bottom_units\":\"canvas\",\"top_units\":\"canvas\",\"line_color\":\"black\",\"line_alpha\":1.0,\"line_width\":2,\"line_dash\":[4,4],\"fill_color\":\"lightgrey\",\"fill_alpha\":0.5}}}},{\"type\":\"object\",\"name\":\"SaveTool\",\"id\":\"p80600\"},{\"type\":\"object\",\"name\":\"ResetTool\",\"id\":\"p80601\"},{\"type\":\"object\",\"name\":\"HelpTool\",\"id\":\"p80602\"}]}},\"left\":[{\"type\":\"object\",\"name\":\"LinearAxis\",\"id\":\"p80589\",\"attributes\":{\"ticker\":{\"type\":\"object\",\"name\":\"BasicTicker\",\"id\":\"p80591\",\"attributes\":{\"mantissas\":[1,2,5]}},\"formatter\":{\"type\":\"object\",\"name\":\"BasicTickFormatter\",\"id\":\"p80592\"},\"axis_label\":\"glucose\",\"major_label_policy\":{\"type\":\"object\",\"name\":\"AllLabels\",\"id\":\"p80590\"}}}],\"below\":[{\"type\":\"object\",\"name\":\"DatetimeAxis\",\"id\":\"p80546\",\"attributes\":{\"ticker\":{\"type\":\"object\",\"name\":\"DatetimeTicker\",\"id\":\"p80548\",\"attributes\":{\"num_minor_ticks\":5,\"tickers\":[{\"type\":\"object\",\"name\":\"AdaptiveTicker\",\"id\":\"p80549\",\"attributes\":{\"num_minor_ticks\":0,\"mantissas\":[1,2,5],\"max_interval\":500.0}},{\"type\":\"object\",\"name\":\"AdaptiveTicker\",\"id\":\"p80550\",\"attributes\":{\"num_minor_ticks\":0,\"base\":60,\"mantissas\":[1,2,5,10,15,20,30],\"min_interval\":1000.0,\"max_interval\":1800000.0}},{\"type\":\"object\",\"name\":\"AdaptiveTicker\",\"id\":\"p80551\",\"attributes\":{\"num_minor_ticks\":0,\"base\":24,\"mantissas\":[1,2,4,6,8,12],\"min_interval\":3600000.0,\"max_interval\":43200000.0}},{\"type\":\"object\",\"name\":\"DaysTicker\",\"id\":\"p80552\",\"attributes\":{\"days\":[1,2,3,4,5,6,7,8,9,10,11,12,13,14,15,16,17,18,19,20,21,22,23,24,25,26,27,28,29,30,31]}},{\"type\":\"object\",\"name\":\"DaysTicker\",\"id\":\"p80553\",\"attributes\":{\"days\":[1,4,7,10,13,16,19,22,25,28]}},{\"type\":\"object\",\"name\":\"DaysTicker\",\"id\":\"p80554\",\"attributes\":{\"days\":[1,8,15,22]}},{\"type\":\"object\",\"name\":\"DaysTicker\",\"id\":\"p80555\",\"attributes\":{\"days\":[1,15]}},{\"type\":\"object\",\"name\":\"MonthsTicker\",\"id\":\"p80556\",\"attributes\":{\"months\":[0,1,2,3,4,5,6,7,8,9,10,11]}},{\"type\":\"object\",\"name\":\"MonthsTicker\",\"id\":\"p80557\",\"attributes\":{\"months\":[0,2,4,6,8,10]}},{\"type\":\"object\",\"name\":\"MonthsTicker\",\"id\":\"p80558\",\"attributes\":{\"months\":[0,4,8]}},{\"type\":\"object\",\"name\":\"MonthsTicker\",\"id\":\"p80559\",\"attributes\":{\"months\":[0,6]}},{\"type\":\"object\",\"name\":\"YearsTicker\",\"id\":\"p80560\"}]}},\"formatter\":{\"type\":\"object\",\"name\":\"DatetimeTickFormatter\",\"id\":\"p80561\"},\"axis_label\":\"time\",\"major_label_policy\":{\"type\":\"object\",\"name\":\"AllLabels\",\"id\":\"p80547\"}}}],\"center\":[{\"type\":\"object\",\"name\":\"Grid\",\"id\":\"p80588\",\"attributes\":{\"axis\":{\"id\":\"p80546\"}}},{\"type\":\"object\",\"name\":\"Grid\",\"id\":\"p80595\",\"attributes\":{\"dimension\":1,\"axis\":{\"id\":\"p80589\"}}},{\"type\":\"object\",\"name\":\"Legend\",\"id\":\"p80657\",\"attributes\":{\"items\":[{\"type\":\"object\",\"name\":\"LegendItem\",\"id\":\"p80658\",\"attributes\":{\"label\":{\"type\":\"value\",\"value\":\"glucose\"},\"renderers\":[{\"id\":\"p80617\"}]}},{\"type\":\"object\",\"name\":\"LegendItem\",\"id\":\"p80714\",\"attributes\":{\"label\":{\"type\":\"value\",\"value\":\"rolling mean\"},\"renderers\":[{\"id\":\"p80669\"}]}}]}}]}},{\"type\":\"object\",\"name\":\"Slider\",\"id\":\"p80659\",\"attributes\":{\"js_property_callbacks\":{\"type\":\"map\",\"entries\":[[\"change:value\",[{\"type\":\"object\",\"name\":\"CustomJS\",\"id\":\"p80715\",\"attributes\":{\"args\":{\"type\":\"map\",\"entries\":[[\"source\",{\"id\":\"p80660\"}],[\"sld\",{\"id\":\"p80659\"}]]},\"code\":\"\\n               \\n    const data = source.get('data');\\n\\n    var roll_mean_num=sld.value\\n    const x = data['x'];\\n    var y = data['y'].rolling(roll_mean_num).mean(); \\n  \\n    source.change.emit();\\n\"}}]]]},\"title\":\"rolling mean number\",\"start\":2,\"end\":10,\"value\":2}}]}}]}};\n  const render_items = [{\"docid\":\"e36a7f00-be85-4962-8caa-ea279606b618\",\"roots\":{\"p80716\":\"4498e3f5-c64c-41c2-8254-06be96ea3ed6\"},\"root_ids\":[\"p80716\"]}];\n  root.Bokeh.embed.embed_items_notebook(docs_json, render_items);\n  }\n  if (root.Bokeh !== undefined) {\n    embed_document(root);\n  } else {\n    let attempts = 0;\n    const timer = setInterval(function(root) {\n      if (root.Bokeh !== undefined) {\n        clearInterval(timer);\n        embed_document(root);\n      } else {\n        attempts++;\n        if (attempts > 100) {\n          clearInterval(timer);\n          console.log(\"Bokeh: ERROR: Unable to run BokehJS code because BokehJS library is missing\");\n        }\n      }\n    }, 10, root)\n  }\n})(window);",
      "application/vnd.bokehjs_exec.v0+json": ""
     },
     "metadata": {
      "application/vnd.bokehjs_exec.v0+json": {
       "id": "p80716"
      }
     },
     "output_type": "display_data"
    }
   ],
   "source": [
    "from bokeh.models import ColumnDataSource, Slider, CustomJS\n",
    "from bokeh.layouts import column\n",
    "from bokeh.plotting import figure, show\n",
    "#######################################################################################\n",
    "# visualize the glucose compared to the rolling mean of it using an interactive plot:\n",
    "#######################################################################################\n",
    "\n",
    "x=df['time'].dt.time\n",
    "\n",
    "# Create plots as p \n",
    "p = figure(title=\"the glucose interpolated by linear regresion compared to the rolling mean of it\", x_axis_label=\"time\",x_axis_type=\"datetime\", y_axis_label=\"glucose\")\n",
    "p.line(x=x,  y = df['linear_interpolated'].values.tolist(), legend_label=\"glucose\", color=\"red\", line_width=2)\n",
    "\n",
    "# Create Slider object\n",
    "sld = Slider(start=2, end=10, value=2, step=1, title=\"rolling mean number\")\n",
    "\n",
    "y= df['linear_interpolated']\n",
    "# Create a new dynamic plot \n",
    "source = ColumnDataSource(data=dict(x=x, y=y))\n",
    "p.line('x', 'y', source=source, line_width=2,legend_label=\"rolling mean\", color='green')\n",
    "  \n",
    "\n",
    "  \n",
    "# Adding callback code\n",
    "callback = CustomJS(args=dict(source=source, sld=sld),\n",
    "                   code=\"\"\"\n",
    "               \n",
    "    const data = source.get('data');\n",
    "\n",
    "    var roll_mean_num=sld.value\n",
    "    const x = data['x'];\n",
    "    var y = data['y'].rolling(roll_mean_num).mean(); \n",
    "  \n",
    "    source.change.emit();\n",
    "\"\"\")\n",
    "  \n",
    "sld.js_on_change('value', callback)\n",
    "  \n",
    "# Arrange plots and slider in layouts\n",
    "layout = column(p,sld)\n",
    " \n",
    "\n",
    "show(layout)\n",
    "\n",
    "\n"
   ]
  }
 ],
 "metadata": {
  "kernelspec": {
   "display_name": "Python 3.10.7 64-bit",
   "language": "python",
   "name": "python3"
  },
  "language_info": {
   "codemirror_mode": {
    "name": "ipython",
    "version": 3
   },
   "file_extension": ".py",
   "mimetype": "text/x-python",
   "name": "python",
   "nbconvert_exporter": "python",
   "pygments_lexer": "ipython3",
   "version": "3.10.7"
  },
  "vscode": {
   "interpreter": {
    "hash": "1e3d2864960cda1cc89e7405ec595e77e7ac30692c1b4230c1dcf8d9a5036813"
   }
  }
 },
 "nbformat": 4,
 "nbformat_minor": 4
}
